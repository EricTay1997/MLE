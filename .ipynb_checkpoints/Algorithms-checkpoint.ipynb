{
 "cells": [
  {
   "cell_type": "code",
   "execution_count": 57,
   "metadata": {},
   "outputs": [],
   "source": [
    "import numpy as np"
   ]
  },
  {
   "cell_type": "markdown",
   "metadata": {},
   "source": [
    "# Gradient Descent"
   ]
  },
  {
   "cell_type": "code",
   "execution_count": 80,
   "metadata": {},
   "outputs": [],
   "source": [
    "def gd(theta, grad, eta, data, max_iter=10):\n",
    "    # Takes in original parameter estimate theta, gradient function grad, step-size eta\n",
    "    # Returns parameter estimates obtained after max_iter steps\n",
    "    thetas = np.zeros((theta.shape[0], max_iter + 1))\n",
    "    thetas[:, 0] = theta.flatten()\n",
    "    for i in range(max_iter):\n",
    "        theta = theta + eta * grad(theta, data)\n",
    "        thetas[:, i+1] = theta.flatten()\n",
    "    return thetas"
   ]
  },
  {
   "cell_type": "markdown",
   "metadata": {},
   "source": [
    "# Newton-Raphson"
   ]
  },
  {
   "cell_type": "code",
   "execution_count": 367,
   "metadata": {},
   "outputs": [],
   "source": [
    "def nr(theta, grad, data, inverse_hessian, max_iter=10, eta = 1):\n",
    "    # Takes in original parameter estimate theta, gradient function grad\n",
    "    # Returns parameter estimates obtained after max_iter eta\n",
    "    thetas = np.zeros((theta.shape[0], max_iter + 1))\n",
    "    thetas[:, 0] = theta.flatten()\n",
    "    for i in range(max_iter):\n",
    "        theta = theta - eta*inverse_hessian(theta, data) @ grad(theta, data)\n",
    "        thetas[:, i+1] = theta.flatten()\n",
    "    return thetas"
   ]
  },
  {
   "cell_type": "markdown",
   "metadata": {},
   "source": [
    "# Fisher's scoring"
   ]
  },
  {
   "cell_type": "code",
   "execution_count": 175,
   "metadata": {},
   "outputs": [],
   "source": [
    "def fisher(theta, grad, data, inverse_info, max_iter=10, eta = 1):\n",
    "    # Takes in original parameter estimate theta, gradient function grad\n",
    "    # Returns parameter estimates obtained after max_iter eta\n",
    "    thetas = np.zeros((theta.shape[0], max_iter + 1))\n",
    "    thetas[:, 0] = theta.flatten()\n",
    "    for i in range(max_iter):\n",
    "        theta = theta - eta*inverse_info(theta, data) @ grad(theta, data)\n",
    "        thetas[:, i+1] = theta.flatten()\n",
    "    return thetas"
   ]
  },
  {
   "cell_type": "markdown",
   "metadata": {},
   "source": [
    "# BFGS"
   ]
  },
  {
   "cell_type": "code",
   "execution_count": 176,
   "metadata": {},
   "outputs": [],
   "source": [
    "def bfgs(f, theta, grad, data, max_iter=10):\n",
    "    # Takes in original parameter estimate theta, negative likelihood function f, negative gradient function grad\n",
    "    # Returns parameter estimates obtained after max_iter eta\n",
    "    thetas = np.zeros((theta.shape[0], max_iter + 1))\n",
    "    thetas[:, 0] = theta.flatten()\n",
    "    I = np.diag(np.ones(theta.shape[0]))\n",
    "    B = np.copy(I)\n",
    "    B_inverse = np.copy(I)\n",
    "    for i in range(max_iter):\n",
    "        p = -B_inverse @ grad(theta, data)\n",
    "        alpha = line_search(f, grad, p , theta, 1, data)\n",
    "        s = alpha * p\n",
    "        next_theta = (theta + s)\n",
    "        y = grad(next_theta, data) - grad(theta, data)\n",
    "        B = B + (y @ y.T)/(y.T @ s) - (B @ s @ s.T @ B.T)/(s.T @ B @ s)\n",
    "        B_inverse = (I - (s @ y.T)/(y.T @ s)) @ B_inverse @ (I - (s @ y.T)/(y.T @ s)) + (s @ s.T)/(y.T @ s)\n",
    "        theta = next_theta\n",
    "        thetas[:, i+1] = theta.flatten()\n",
    "    return thetas\n",
    "\n",
    "def line_search(f, grad, p, theta, alpha, data, lower = 0, upper = float(\"inf\"), c1 = 0.0001, c2 = 0.1):\n",
    "    if f(theta, data) + c1 * alpha * p.T @ grad(theta, data) - f(theta + alpha * p, data) < 0:\n",
    "        return line_search(f, grad, p, theta, 0.5*(lower + alpha), data, lower = 0, upper = alpha)\n",
    "    elif -c2 * p.T @ grad(theta, data) + p.T @ grad(theta + alpha * p, data) < 0:\n",
    "        return line_search(f, grad, p, theta, 2*alpha, data, lower = alpha, upper = float(\"inf\"))\n",
    "    return alpha"
   ]
  },
  {
   "cell_type": "markdown",
   "metadata": {},
   "source": [
    "# Example 1 - Poisson, 1 Dimension"
   ]
  },
  {
   "cell_type": "code",
   "execution_count": 84,
   "metadata": {},
   "outputs": [],
   "source": [
    "np.random.seed(0)\n",
    "data = np.random.poisson(lam = 56.3, size = 1000)"
   ]
  },
  {
   "cell_type": "code",
   "execution_count": 85,
   "metadata": {},
   "outputs": [],
   "source": [
    "def l1(theta, data):\n",
    "    return np.sum(data)*np.log(theta) - len(data)*theta\n",
    "\n",
    "def neg_l1(theta, data):\n",
    "    return -l1(theta, data)\n",
    "    \n",
    "def grad1(theta, data):\n",
    "    return np.sum(data)/theta - len(data)\n",
    "\n",
    "def neg_grad1(theta, data):\n",
    "    return -grad1(theta, data)\n",
    "\n",
    "def inverse_hessian1(theta, data):\n",
    "    return -(theta**2)/np.sum(data)\n",
    "\n",
    "def inverse_info1(theta, data):\n",
    "    return -(theta)/len(data)"
   ]
  },
  {
   "cell_type": "code",
   "execution_count": 86,
   "metadata": {},
   "outputs": [],
   "source": [
    "theta0 = np.array([[5]])"
   ]
  },
  {
   "cell_type": "code",
   "execution_count": 87,
   "metadata": {},
   "outputs": [
    {
     "data": {
      "text/plain": [
       "array([ 5.        , 15.2796    , 17.97066521, 20.10900201, 21.91361658,\n",
       "       23.48726753, 24.88848342, 26.1545114 , 27.31085067, 28.37589071,\n",
       "       29.36342303, 30.28411191, 31.14640855, 31.95714702, 32.72194786,\n",
       "       33.44550051, 34.1317662 , 34.78412722, 35.40549894, 35.99841534,\n",
       "       36.56509541, 37.10749533, 37.62734999, 38.12620654, 38.60545153,\n",
       "       39.06633329, 39.50998043, 39.93741723, 40.34957665, 40.74731126,\n",
       "       41.13140259, 41.50256905, 41.86147288, 42.208726  , 42.54489521,\n",
       "       42.87050666, 43.18604977, 43.49198075, 43.78872555, 44.07668265,\n",
       "       44.35622541, 44.6277042 , 44.89144835, 45.14776781, 45.3969547 ,\n",
       "       45.63928473, 45.87501838, 46.10440209, 46.32766923, 46.54504107,\n",
       "       46.75672761, 46.96292836, 47.16383303, 47.35962219, 47.55046784,\n",
       "       47.73653398, 47.91797711, 48.09494666, 48.26758545, 48.43603006,\n",
       "       48.6004112 , 48.76085405, 48.91747859, 49.07039983, 49.21972814,\n",
       "       49.3655695 , 49.50802568, 49.64719451, 49.78317008, 49.9160429 ,\n",
       "       50.04590009, 50.17282557, 50.29690019, 50.4182019 , 50.53680585,\n",
       "       50.65278457, 50.76620806, 50.8771439 , 50.98565738, 51.0918116 ,\n",
       "       51.19566755, 51.2972842 , 51.39671862, 51.49402603, 51.58925987,\n",
       "       51.68247191, 51.77371229, 51.86302958, 51.95047087, 52.03608182,\n",
       "       52.1199067 , 52.20198845, 52.28236875, 52.36108805, 52.4381856 ,\n",
       "       52.51369955, 52.58766693, 52.66012371, 52.73110486, 52.80064437,\n",
       "       52.86877527])"
      ]
     },
     "execution_count": 87,
     "metadata": {},
     "output_type": "execute_result"
    }
   ],
   "source": [
    "%%timeit\n",
    "gd(theta0, grad1, 1/len(data), data, max_iter = 100).flatten()"
   ]
  },
  {
   "cell_type": "code",
   "execution_count": 88,
   "metadata": {},
   "outputs": [
    {
     "data": {
      "text/plain": [
       "array([  5.        , 107.796     , 103.02791955,  98.50196972,\n",
       "        94.2275405 ,  90.21283946,  86.46449946,  82.98717644,\n",
       "        79.78316618,  76.85207592,  74.19058946,  71.79236219,\n",
       "        69.6480725 ,  67.74564046,  66.07060419,  64.60662421,\n",
       "        63.33606963,  62.24063228,  61.30191555,  60.50195433,\n",
       "        59.82363668,  59.25101407,  58.76950095,  58.36597516,\n",
       "        58.02879666,  57.74776436,  57.51402988,  57.31998507,\n",
       "        57.15913627,  57.02597536,  56.91585443,  56.82486846,\n",
       "        56.74974845,  56.68776607,  56.63664991,  56.5945129 ,\n",
       "        56.55978994,  56.53118482,  56.50762529,  56.4882252 ,\n",
       "        56.47225281,  56.45910426,  56.44828152,  56.43937398,\n",
       "        56.43204329,  56.42601067,  56.42104653,  56.41696179,\n",
       "        56.41360078,  56.41083535,  56.40856002])"
      ]
     },
     "execution_count": 88,
     "metadata": {},
     "output_type": "execute_result"
    }
   ],
   "source": [
    "%%timeit\n",
    "gd(theta0, grad1, 10/len(data), data, max_iter = 50).flatten()"
   ]
  },
  {
   "cell_type": "code",
   "execution_count": 89,
   "metadata": {},
   "outputs": [
    {
     "data": {
      "text/plain": [
       "array([ 5.        ,  9.55672187, 17.49404353, 29.56162586, 43.6282036 ,\n",
       "       53.50662619, 56.24976704, 56.39761039, 56.398     , 56.398     ,\n",
       "       56.398     ])"
      ]
     },
     "execution_count": 89,
     "metadata": {},
     "output_type": "execute_result"
    }
   ],
   "source": [
    "%%timeit\n",
    "nr(theta0, grad1, data, inverse_hessian1, max_iter=10).flatten()"
   ]
  },
  {
   "cell_type": "code",
   "execution_count": 90,
   "metadata": {},
   "outputs": [
    {
     "data": {
      "text/plain": [
       "array([ 5.   , 56.398, 56.398, 56.398, 56.398, 56.398, 56.398, 56.398,\n",
       "       56.398, 56.398, 56.398])"
      ]
     },
     "execution_count": 90,
     "metadata": {},
     "output_type": "execute_result"
    }
   ],
   "source": [
    "%%timeit\n",
    "fisher(theta0, grad1, data, inverse_info1, max_iter=10).flatten()"
   ]
  },
  {
   "cell_type": "code",
   "execution_count": 91,
   "metadata": {},
   "outputs": [
    {
     "data": {
      "text/plain": [
       "array([  5.        , 165.61875   ,  10.69020643, 144.91602358,\n",
       "        44.24479993,  59.85877053,  54.42875174,  56.51883968,\n",
       "        56.40221936,  56.39799096,  56.398     ])"
      ]
     },
     "execution_count": 91,
     "metadata": {},
     "output_type": "execute_result"
    }
   ],
   "source": [
    "%%timeit\n",
    "bfgs(neg_l1, theta0, neg_grad1, data).flatten()"
   ]
  },
  {
   "cell_type": "markdown",
   "metadata": {},
   "source": [
    "# Example 2 - Normal Distribution, 2 Dimensions"
   ]
  },
  {
   "cell_type": "code",
   "execution_count": 141,
   "metadata": {},
   "outputs": [],
   "source": [
    "np.random.seed(0)\n",
    "data = np.random.normal(50, 5, size = 1000)"
   ]
  },
  {
   "cell_type": "code",
   "execution_count": 210,
   "metadata": {},
   "outputs": [],
   "source": [
    "def l2(theta, data):\n",
    "    return -(1/2)*np.sum(((data - theta[0])/theta[1])**2) - len(data)*np.log(theta[1])\n",
    "\n",
    "def neg_l2(theta, data):\n",
    "    return -l2(theta, data)\n",
    "    \n",
    "def grad2(theta, data):\n",
    "    return np.array([(np.sum(data) - len(data)*theta[0])/theta[1]**2, \n",
    "                     np.sum((data - theta[0])**2/theta[1]**3) - len(data)/theta[1]])\n",
    "\n",
    "def neg_grad2(theta, data):\n",
    "    return -grad2(theta, data)\n",
    "\n",
    "def inverse_hessian2(theta, data):\n",
    "    return np.linalg.inv(np.r_[np.c_[-len(data)/theta[1]**2, \n",
    "                                     (-2*(np.sum(data) - len(data)*theta[0]))/theta[1]**3], \n",
    "                               np.c_[(-2*(np.sum(data) - len(data)*theta[0]))/theta[1]**3,\n",
    "                                     -3*np.sum((data - theta[0])**2/theta[1]**4) + len(data)/theta[1]**2]])\n",
    "\n",
    "def inverse_info2(theta, data):\n",
    "    return np.linalg.inv(np.r_[np.c_[-len(data)/theta[1]**2, \n",
    "                                     0], \n",
    "                               np.c_[0,\n",
    "                                     -2*len(data)/theta[1]]])"
   ]
  },
  {
   "cell_type": "code",
   "execution_count": 190,
   "metadata": {},
   "outputs": [],
   "source": [
    "theta0 = np.array([10,2])[:, None]"
   ]
  },
  {
   "cell_type": "code",
   "execution_count": 177,
   "metadata": {},
   "outputs": [
    {
     "data": {
      "text/plain": [
       "array([[10.        , 11.98868582, 11.99295811, ..., 49.77371493,\n",
       "        49.77371494, 49.77371495],\n",
       "       [ 2.        , 42.05760957, 42.05675794, ...,  4.93516579,\n",
       "         4.93516579,  4.93516579]])"
      ]
     },
     "execution_count": 177,
     "metadata": {},
     "output_type": "execute_result"
    }
   ],
   "source": [
    "#%%timeit\n",
    "gd(theta0, grad2, 0.2/len(data), data, max_iter = 10000)"
   ]
  },
  {
   "cell_type": "code",
   "execution_count": 203,
   "metadata": {},
   "outputs": [
    {
     "data": {
      "text/plain": [
       "array([[44.        , 45.44342912, 45.50048954, 45.55744463, 45.61429336,\n",
       "        45.67103454, 45.7276668 , 45.78418856, 45.84059807, 45.89689336,\n",
       "        45.95307224, 46.00913231, 46.06507091, 46.12088517, 46.17657195,\n",
       "        46.23212783, 46.28754915, 46.34283193, 46.39797192, 46.45296454,\n",
       "        46.50780489, 46.56248774, 46.61700752, 46.6713583 , 46.72553375,\n",
       "        46.7795272 , 46.83333155, 46.88693929, 46.94034251, 46.99353285,\n",
       "        47.0465015 , 47.0992392 , 47.15173623, 47.2039824 , 47.25596702,\n",
       "        47.30767893, 47.35910648, 47.41023751, 47.46105939, 47.51155899,\n",
       "        47.56172269, 47.61153641, 47.6609856 , 47.71005526, 47.75872996,\n",
       "        47.80699389, 47.85483084, 47.90222429, 47.94915739, 47.99561306,\n",
       "        48.04157399, 48.08702273, 48.13194176, 48.17631349, 48.2201204 ,\n",
       "        48.26334508, 48.30597032, 48.3479792 , 48.38935513, 48.43008199,\n",
       "        48.4701442 , 48.50952681, 48.54821557, 48.58619704, 48.62345865,\n",
       "        48.65998882, 48.69577698, 48.73081366, 48.76509059, 48.79860067,\n",
       "        48.8313381 , 48.86329833, 48.89447817, 48.92487574, 48.9544905 ,\n",
       "        48.98332322, 49.011376  , 49.03865222, 49.0651565 , 49.09089467,\n",
       "        49.11587371, 49.14010169, 49.16358772, 49.18634186, 49.20837506,\n",
       "        49.22969909, 49.25032645, 49.2702703 , 49.28954439, 49.30816296,\n",
       "        49.32614069, 49.34349262, 49.36023408, 49.3763806 , 49.3919479 ,\n",
       "        49.40695177, 49.42140806, 49.4353326 , 49.44874117, 49.46164946,\n",
       "        49.474073  ],\n",
       "       [ 2.        ,  8.7114579 ,  8.66187108,  8.61199798,  8.56184516,\n",
       "         8.51141952,  8.46072827,  8.40977898,  8.3585796 ,  8.30713844,\n",
       "         8.25546425,  8.2035662 ,  8.15145393,  8.09913755,  8.04662767,\n",
       "         7.99393543,  7.94107254,  7.88805128,  7.83488452,  7.78158578,\n",
       "         7.72816923,  7.67464973,  7.62104283,  7.56736483,  7.51363279,\n",
       "         7.45986455,  7.40607874,  7.35229485,  7.29853319,  7.24481494,\n",
       "         7.19116217,  7.13759783,  7.08414578,  7.03083078,  6.9776785 ,\n",
       "         6.92471551,  6.87196928,  6.81946812,  6.76724124,  6.71531864,\n",
       "         6.66373111,  6.61251018,  6.56168803,  6.51129748,  6.46137188,\n",
       "         6.41194499,  6.36305095,  6.31472412,  6.26699898,  6.21990997,\n",
       "         6.1734914 ,  6.12777722,  6.08280095,  6.03859543,  5.99519267,\n",
       "         5.95262371,  5.91091835,  5.87010506,  5.8302107 ,  5.79126043,\n",
       "         5.75327746,  5.71628294,  5.68029575,  5.64533242,  5.61140697,\n",
       "         5.5785308 ,  5.54671266,  5.51595849,  5.48627151,  5.4576521 ,\n",
       "         5.43009788,  5.40360371,  5.37816181,  5.35376176,  5.3303907 ,\n",
       "         5.30803342,  5.28667247,  5.26628842,  5.24685992,  5.22836398,\n",
       "         5.21077612,  5.19407056,  5.17822043,  5.16319796,  5.1489747 ,\n",
       "         5.13552164,  5.12280944,  5.11080861,  5.09948959,  5.088823  ,\n",
       "         5.07877966,  5.06933082,  5.06044819,  5.05210404,  5.04427133,\n",
       "         5.03692372,  5.03003566,  5.02358245,  5.01754022,  5.01188602,\n",
       "         5.00659779]])"
      ]
     },
     "execution_count": 203,
     "metadata": {},
     "output_type": "execute_result"
    }
   ],
   "source": [
    "gd(np.array([44,2])[:, None], grad2, 1/len(data), data, max_iter = 100)"
   ]
  },
  {
   "cell_type": "code",
   "execution_count": 192,
   "metadata": {},
   "outputs": [
    {
     "data": {
      "text/plain": [
       "array([[ 1.00000000e+01, -3.23349838e+01, -1.15640238e+02,\n",
       "        -2.81643301e+02, -6.13353761e+02, -1.27662782e+03,\n",
       "        -2.60310263e+03, -5.25601562e+03, -1.05618233e+04,\n",
       "        -2.11734294e+04, -4.23966371e+04],\n",
       "       [ 2.00000000e+00,  4.06439598e+00,  8.15840678e+00,\n",
       "         1.63313413e+01,  3.26699126e+01,  6.53434361e+01,\n",
       "         1.30688677e+02,  2.61378257e+02,  5.22756964e+02,\n",
       "         1.04551415e+03,  2.09102842e+03]])"
      ]
     },
     "execution_count": 192,
     "metadata": {},
     "output_type": "execute_result"
    }
   ],
   "source": [
    "#%%timeit\n",
    "nr(theta0, grad2, data, inverse_hessian2, max_iter=10)"
   ]
  },
  {
   "cell_type": "code",
   "execution_count": 204,
   "metadata": {},
   "outputs": [
    {
     "data": {
      "text/plain": [
       "array([[44.        , 53.96844118, 50.57424055, 50.26822374, 50.06943558,\n",
       "        49.93741953, 49.8514209 , 49.80086314, 49.77875387, 49.77396276,\n",
       "        49.77371723],\n",
       "       [ 2.        ,  1.27347927,  1.39499509,  1.82585984,  2.37179887,\n",
       "         3.02828461,  3.74699792,  4.40152004,  4.80989846,  4.92748745,\n",
       "         4.93513599]])"
      ]
     },
     "execution_count": 204,
     "metadata": {},
     "output_type": "execute_result"
    }
   ],
   "source": [
    "nr(np.array([44,2])[:, None], grad2, data, inverse_hessian2, max_iter=10)"
   ]
  },
  {
   "cell_type": "code",
   "execution_count": 213,
   "metadata": {},
   "outputs": [
    {
     "data": {
      "text/plain": [
       "array([[ 10.        ,  49.77371646,  49.77371646, ...,  49.77371646,\n",
       "         49.77371646,  49.77371646],\n",
       "       [  2.        , 202.28804783, 201.78834543, ...,   4.93516579,\n",
       "          4.93516579,   4.93516579]])"
      ]
     },
     "execution_count": 213,
     "metadata": {},
     "output_type": "execute_result"
    }
   ],
   "source": [
    "#%%timeit\n",
    "fisher(theta0, grad2, data, inverse_info2, max_iter=1000)"
   ]
  },
  {
   "cell_type": "code",
   "execution_count": 220,
   "metadata": {},
   "outputs": [
    {
     "data": {
      "text/plain": [
       "array([[44.        , 49.77371646, 49.77371646, 49.77371646, 49.77371646,\n",
       "        49.77371646, 49.77371646, 49.77371646, 49.77371646, 49.77371646,\n",
       "        49.77371646, 49.77371646, 49.77371646, 49.77371646, 49.77371646,\n",
       "        49.77371646, 49.77371646, 49.77371646, 49.77371646, 49.77371646,\n",
       "        49.77371646, 49.77371646, 49.77371646, 49.77371646, 49.77371646,\n",
       "        49.77371646, 49.77371646, 49.77371646, 49.77371646, 49.77371646,\n",
       "        49.77371646],\n",
       "       [ 2.        ,  8.7114579 ,  8.37192715,  8.04567627,  7.73380208,\n",
       "         7.43740659,  7.15756255,  6.89527022,  6.65140639,  6.42666857,\n",
       "         6.22151895,  6.03613483,  5.87037268,  5.72375283,  5.59546926,\n",
       "         5.48442526,  5.38929121,  5.30857705,  5.24070986,  5.18410739,\n",
       "         5.13724021,  5.09867863,  5.06712321,  5.04142042,  5.0205662 ,\n",
       "         5.00370076,  4.9900977 ,  4.97915011,  4.97035543,  4.96330059,\n",
       "         4.95764809]])"
      ]
     },
     "execution_count": 220,
     "metadata": {},
     "output_type": "execute_result"
    }
   ],
   "source": [
    "#%%timeit\n",
    "fisher(np.array([44,2])[:, None], grad2, data, inverse_info2, max_iter=30)"
   ]
  },
  {
   "cell_type": "code",
   "execution_count": 225,
   "metadata": {},
   "outputs": [
    {
     "name": "stderr",
     "output_type": "stream",
     "text": [
      "/Users/erictay1997/opt/anaconda3/lib/python3.7/site-packages/ipykernel_launcher.py:2: RuntimeWarning: invalid value encountered in log\n",
      "  \n"
     ]
    },
    {
     "data": {
      "text/plain": [
       "array([[ 1.00000000e+01,  3.20732160e+02,  1.10988431e+03,\n",
       "         1.07689128e+03,  1.09274097e+03,  1.09274097e+03,\n",
       "         1.09274097e+03,  1.09274097e+03, -1.08960272e+04,\n",
       "        -7.41783081e+03,  1.08919716e+07],\n",
       "       [ 2.00000000e+00,  6.26100149e+03,  9.86721009e+02,\n",
       "         1.20698102e+03,  1.08211944e+03,  1.08211944e+03,\n",
       "         1.08211944e+03,  1.08211944e+03, -4.15853555e+03,\n",
       "        -3.47985155e+02,  5.00329071e+05]])"
      ]
     },
     "execution_count": 225,
     "metadata": {},
     "output_type": "execute_result"
    }
   ],
   "source": [
    "#%%timeit\n",
    "#pretty unstable\n",
    "bfgs(neg_l2, theta0, neg_grad2, data)"
   ]
  },
  {
   "cell_type": "markdown",
   "metadata": {},
   "source": [
    "# Example 3 - Logistic Regression, no analytic MLE solution known"
   ]
  },
  {
   "cell_type": "code",
   "execution_count": 320,
   "metadata": {},
   "outputs": [],
   "source": [
    "np.random.seed(0)\n",
    "X = np.random.normal(1,1,(100,3))\n",
    "theta = np.random.normal(0,5,(3,1))\n",
    "probs = 1/(1+np.exp(-X @ theta))\n",
    "data = np.random.binomial(1,probs)"
   ]
  },
  {
   "cell_type": "code",
   "execution_count": 365,
   "metadata": {},
   "outputs": [],
   "source": [
    "def l3(theta, data):\n",
    "    X = data[:, 1:]\n",
    "    data = data[:, 0][:, None]\n",
    "    probs = 1/(1+np.exp(-X @ theta))\n",
    "    return np.sum(np.log(probs)*data + (1-data)*np.log(1-probs))\n",
    "\n",
    "def neg_l3(theta, data):\n",
    "    return -l3(theta, data)\n",
    "    \n",
    "def grad3(theta, data):\n",
    "    X = data[:, 1:]\n",
    "    data = data[:, 0][:, None]\n",
    "    probs = 1/(1+np.exp(-X @ theta))\n",
    "    return X.T @ (data - probs)\n",
    "\n",
    "def neg_grad3(theta, data):\n",
    "    return -grad3(theta, data)\n",
    "\n",
    "def inverse_hessian3(theta, data):\n",
    "    X = data[:, 1:]\n",
    "    data = data[:, 0][:, None]\n",
    "    probs = 1/(1+np.exp(-X @ theta))\n",
    "    D = np.diag((probs*(1-probs)).flatten())\n",
    "    return -np.linalg.inv(X.T @ D @ X)\n",
    "\n",
    "def inverse_info3(theta, data):\n",
    "    return inverse_hessian3(theta, data)"
   ]
  },
  {
   "cell_type": "code",
   "execution_count": 314,
   "metadata": {},
   "outputs": [
    {
     "name": "stdout",
     "output_type": "stream",
     "text": [
      "[[-6.53263426]\n",
      " [ 8.2906534 ]\n",
      " [-0.59082023]]\n"
     ]
    }
   ],
   "source": [
    "print(theta)"
   ]
  },
  {
   "cell_type": "code",
   "execution_count": 357,
   "metadata": {},
   "outputs": [],
   "source": [
    "theta0 = np.array([0,0,0])[:, None]"
   ]
  },
  {
   "cell_type": "code",
   "execution_count": 371,
   "metadata": {},
   "outputs": [
    {
     "data": {
      "text/plain": [
       "array([[ 0.00000000e+00, -2.29306593e-01, -4.30050323e-01, ...,\n",
       "        -7.79602436e+00, -7.79602710e+00, -7.79602984e+00],\n",
       "       [ 0.00000000e+00,  3.54170391e-01,  5.86482433e-01, ...,\n",
       "         9.52118221e+00,  9.52118549e+00,  9.52118878e+00],\n",
       "       [ 0.00000000e+00, -4.65952726e-03, -2.90337396e-02, ...,\n",
       "        -3.01173480e-01, -3.01173494e-01, -3.01173509e-01]])"
      ]
     },
     "execution_count": 371,
     "metadata": {},
     "output_type": "execute_result"
    }
   ],
   "source": [
    "gd(theta0, grad3, 1/len(data), np.c_[data, X], max_iter = 10000)"
   ]
  },
  {
   "cell_type": "code",
   "execution_count": 370,
   "metadata": {},
   "outputs": [
    {
     "data": {
      "text/plain": [
       "array([[ 0.        , -0.97673822, -1.78581804, -2.84966575, -4.23072343,\n",
       "        -5.79850151, -7.11616693, -7.71443521, -7.79902952, -7.80043537,\n",
       "        -7.80043575],\n",
       "       [ 0.        ,  1.17867241,  2.2146374 ,  3.54331526,  5.23097728,\n",
       "         7.12567335,  8.70824779,  9.42388859,  9.52479962,  9.52647315,\n",
       "         9.5264736 ],\n",
       "       [ 0.        , -0.04904345, -0.15828702, -0.23880062, -0.28113835,\n",
       "        -0.29834846, -0.30129451, -0.30120128, -0.30119697, -0.30119682,\n",
       "        -0.30119681]])"
      ]
     },
     "execution_count": 370,
     "metadata": {},
     "output_type": "execute_result"
    }
   ],
   "source": [
    "nr(theta0, grad3, np.c_[data, X], inverse_hessian3, max_iter=10)"
   ]
  },
  {
   "cell_type": "markdown",
   "metadata": {},
   "source": [
    "Fisher's scoring == NR for logistic regression"
   ]
  },
  {
   "cell_type": "code",
   "execution_count": 364,
   "metadata": {},
   "outputs": [
    {
     "name": "stderr",
     "output_type": "stream",
     "text": [
      "/Users/erictay1997/opt/anaconda3/lib/python3.7/site-packages/ipykernel_launcher.py:5: RuntimeWarning: divide by zero encountered in log\n",
      "  \"\"\"\n",
      "/Users/erictay1997/opt/anaconda3/lib/python3.7/site-packages/ipykernel_launcher.py:5: RuntimeWarning: invalid value encountered in multiply\n",
      "  \"\"\"\n",
      "/Users/erictay1997/opt/anaconda3/lib/python3.7/site-packages/ipykernel_launcher.py:4: RuntimeWarning: overflow encountered in exp\n",
      "  after removing the cwd from sys.path.\n",
      "/Users/erictay1997/opt/anaconda3/lib/python3.7/site-packages/ipykernel_launcher.py:13: RuntimeWarning: overflow encountered in exp\n",
      "  del sys.path[0]\n"
     ]
    },
    {
     "data": {
      "text/plain": [
       "array([[ 0.00000000e+00, -2.29306593e+01, -4.12602488e+01,\n",
       "        -5.06823056e+01, -6.61759832e+01, -8.84321837e+01,\n",
       "        -1.78338582e+02, -3.67771009e+01,  5.10312869e+03,\n",
       "        -4.67427025e+03, -2.22920346e+03],\n",
       "       [ 0.00000000e+00,  3.54170391e+01,  3.27882355e+01,\n",
       "         7.76813821e+01,  8.73290332e+01,  1.16029095e+02,\n",
       "         2.13774694e+02,  2.07225754e+02, -9.39679394e+03,\n",
       "         9.38344879e+03, -1.59593965e+02],\n",
       "       [ 0.00000000e+00, -4.65952726e-01, -1.14533920e+01,\n",
       "        -6.50031642e+00, -9.23227344e+00, -6.28397364e+00,\n",
       "        -1.87395565e+00,  3.47604433e+01, -1.36756546e+03,\n",
       "         1.41783053e+03,  7.49850362e+01]])"
      ]
     },
     "execution_count": 364,
     "metadata": {},
     "output_type": "execute_result"
    }
   ],
   "source": [
    "bfgs(neg_l3, theta0, neg_grad3, np.c_[data, X], max_iter = 10)\n",
    "# Unstable"
   ]
  },
  {
   "cell_type": "markdown",
   "metadata": {},
   "source": [
    "# Example 3b - Logistic Regression, higher dimensions"
   ]
  },
  {
   "cell_type": "code",
   "execution_count": 372,
   "metadata": {},
   "outputs": [],
   "source": [
    "np.random.seed(0)\n",
    "X = np.random.normal(1,1,(10000,20))\n",
    "theta = np.random.normal(0,5,(20,1))\n",
    "probs = 1/(1+np.exp(-X @ theta))\n",
    "data = np.random.binomial(1,probs)"
   ]
  },
  {
   "cell_type": "code",
   "execution_count": 373,
   "metadata": {},
   "outputs": [],
   "source": [
    "theta0 = np.zeros(20)[:, None]"
   ]
  },
  {
   "cell_type": "code",
   "execution_count": 374,
   "metadata": {},
   "outputs": [
    {
     "data": {
      "text/plain": [
       "array([[ 0.19754948],\n",
       "       [ 1.69188807],\n",
       "       [-4.21091597],\n",
       "       [-0.24816141],\n",
       "       [-6.1512268 ],\n",
       "       [-4.94396336],\n",
       "       [ 3.01037293],\n",
       "       [-0.79774301],\n",
       "       [-6.41673982],\n",
       "       [-6.1911004 ],\n",
       "       [ 3.58614352],\n",
       "       [-2.44454335],\n",
       "       [ 8.36310749],\n",
       "       [ 2.71818862],\n",
       "       [ 2.20786495],\n",
       "       [-1.95951649],\n",
       "       [-6.57447333],\n",
       "       [ 2.7656804 ],\n",
       "       [ 1.00997219],\n",
       "       [10.16281831]])"
      ]
     },
     "execution_count": 374,
     "metadata": {},
     "output_type": "execute_result"
    }
   ],
   "source": [
    "theta"
   ]
  },
  {
   "cell_type": "code",
   "execution_count": 375,
   "metadata": {},
   "outputs": [
    {
     "data": {
      "text/plain": [
       "array([[ 0.        , -0.07417171,  0.20031893, ...,  0.20911615,\n",
       "         0.20911966,  0.20912317],\n",
       "       [ 0.        , -0.0460053 ,  0.25562308, ...,  1.6569537 ,\n",
       "         1.65698025,  1.65700679],\n",
       "       [ 0.        , -0.16422751,  0.03472365, ..., -4.13593676,\n",
       "        -4.13600258, -4.13606839],\n",
       "       ...,\n",
       "       [ 0.        , -0.02736347,  0.2918735 , ...,  2.7113574 ,\n",
       "         2.7113997 ,  2.711442  ],\n",
       "       [ 0.        , -0.06133535,  0.22724388, ...,  0.9613838 ,\n",
       "         0.9613992 ,  0.96141459],\n",
       "       [ 0.        ,  0.10469057,  0.54108137, ...,  9.84123434,\n",
       "         9.84138986,  9.84154537]])"
      ]
     },
     "execution_count": 375,
     "metadata": {},
     "output_type": "execute_result"
    }
   ],
   "source": [
    "gd(theta0, grad3, 1/len(data), np.c_[data, X], max_iter = 10000)"
   ]
  },
  {
   "cell_type": "code",
   "execution_count": 376,
   "metadata": {},
   "outputs": [
    {
     "data": {
      "text/plain": [
       "array([[ 0.00000000e+00,  1.44713215e-02,  2.84900769e-02,\n",
       "         4.67882851e-02,  7.13480329e-02,  1.05741073e-01,\n",
       "         1.51437871e-01,  1.99039049e-01,  2.28842617e-01,\n",
       "         2.36155857e-01,  2.36491042e-01],\n",
       "       [ 0.00000000e+00,  1.18575794e-01,  2.25207680e-01,\n",
       "         3.72254571e-01,  5.81915577e-01,  8.71577163e-01,\n",
       "         1.23176805e+00,  1.58741516e+00,  1.80699366e+00,\n",
       "         1.86156173e+00,  1.86411452e+00],\n",
       "       [ 0.00000000e+00, -3.15274690e-01, -5.98408820e-01,\n",
       "        -9.73906183e-01, -1.49388767e+00, -2.20167272e+00,\n",
       "        -3.08275332e+00, -3.96128579e+00, -4.50751716e+00,\n",
       "        -4.64355288e+00, -4.64991485e+00],\n",
       "       [ 0.00000000e+00, -4.23247685e-03, -1.08223489e-02,\n",
       "        -2.20157914e-02, -4.19353173e-02, -7.56194813e-02,\n",
       "        -1.24724340e-01, -1.75554233e-01, -2.05927595e-01,\n",
       "        -2.13175031e-01, -2.13505785e-01],\n",
       "       [ 0.00000000e+00, -4.48268002e-01, -8.64889585e-01,\n",
       "        -1.41575586e+00, -2.16443311e+00, -3.16625141e+00,\n",
       "        -4.40441862e+00, -5.63625193e+00, -6.40025104e+00,\n",
       "        -6.59010775e+00, -6.59897520e+00],\n",
       "       [ 0.00000000e+00, -3.82771150e-01, -7.24630341e-01,\n",
       "        -1.17274886e+00, -1.77838269e+00, -2.58833246e+00,\n",
       "        -3.59236373e+00, -4.59408706e+00, -5.21776958e+00,\n",
       "        -5.37344402e+00, -5.38074273e+00],\n",
       "       [ 0.00000000e+00,  2.37375077e-01,  4.56829147e-01,\n",
       "         7.44665696e-01,  1.13076495e+00,  1.64239114e+00,\n",
       "         2.27446454e+00,  2.90653639e+00,  3.30055809e+00,\n",
       "         3.39880318e+00,  3.40340153e+00],\n",
       "       [ 0.00000000e+00, -6.74294585e-02, -1.21342140e-01,\n",
       "        -1.86811147e-01, -2.69214385e-01, -3.80351833e-01,\n",
       "        -5.28547516e-01, -6.86831608e-01, -7.89254627e-01,\n",
       "        -8.15195294e-01, -8.16414695e-01],\n",
       "       [ 0.00000000e+00, -4.79893983e-01, -9.11260522e-01,\n",
       "        -1.47653357e+00, -2.25060613e+00, -3.30040645e+00,\n",
       "        -4.61203154e+00, -5.92672910e+00, -6.74782373e+00,\n",
       "        -6.95302842e+00, -6.96264898e+00],\n",
       "       [ 0.00000000e+00, -4.76180653e-01, -9.02116749e-01,\n",
       "        -1.46580811e+00, -2.23512280e+00, -3.25794083e+00,\n",
       "        -4.50605844e+00, -5.73845194e+00, -6.50316339e+00,\n",
       "        -6.69387614e+00, -6.70281336e+00],\n",
       "       [ 0.00000000e+00,  2.68020077e-01,  5.13869522e-01,\n",
       "         8.36292376e-01,  1.27209109e+00,  1.85566107e+00,\n",
       "         2.58283617e+00,  3.31462364e+00,  3.77362825e+00,\n",
       "         3.88873153e+00,  3.89414232e+00],\n",
       "       [ 0.00000000e+00, -1.81468484e-01, -3.51666229e-01,\n",
       "        -5.76299936e-01, -8.86005758e-01, -1.30805561e+00,\n",
       "        -1.83425495e+00, -2.35887889e+00, -2.68598011e+00,\n",
       "        -2.76785515e+00, -2.77170137e+00],\n",
       "       [ 0.00000000e+00,  6.19463335e-01,  1.18250939e+00,\n",
       "         1.92183511e+00,  2.92878872e+00,  4.27712421e+00,\n",
       "         5.94036423e+00,  7.59302749e+00,  8.61958644e+00,\n",
       "         8.87532830e+00,  8.88729779e+00],\n",
       "       [ 0.00000000e+00,  1.82290094e-01,  3.50784386e-01,\n",
       "         5.77061668e-01,  8.96303938e-01,  1.33594173e+00,\n",
       "         1.88310482e+00,  2.42315431e+00,  2.75492344e+00,\n",
       "         2.83680627e+00,  2.84061257e+00],\n",
       "       [ 0.00000000e+00,  1.80542556e-01,  3.38763117e-01,\n",
       "         5.45435207e-01,  8.18915608e-01,  1.18172747e+00,\n",
       "         1.63418672e+00,  2.08987004e+00,  2.37503853e+00,\n",
       "         2.44628025e+00,  2.44961837e+00],\n",
       "       [ 0.00000000e+00, -1.46011084e-01, -2.73769150e-01,\n",
       "        -4.44173115e-01, -6.76980936e-01, -9.88775756e-01,\n",
       "        -1.37465961e+00, -1.76209889e+00, -2.00587306e+00,\n",
       "        -2.06720064e+00, -2.07008906e+00],\n",
       "       [ 0.00000000e+00, -5.08442138e-01, -9.59331636e-01,\n",
       "        -1.55178118e+00, -2.36093055e+00, -3.45357726e+00,\n",
       "        -4.81051731e+00, -6.15862137e+00, -6.99289000e+00,\n",
       "        -7.20003661e+00, -7.20971100e+00],\n",
       "       [ 0.00000000e+00,  2.12717960e-01,  4.05368841e-01,\n",
       "         6.57275498e-01,  9.99882676e-01,  1.46247240e+00,\n",
       "         2.03525630e+00,  2.60170313e+00,  2.95084039e+00,\n",
       "         3.03723959e+00,  3.04126435e+00],\n",
       "       [ 0.00000000e+00,  9.63396221e-02,  1.63357914e-01,\n",
       "         2.46468288e-01,  3.56708247e-01,  5.10382636e-01,\n",
       "         7.12292609e-01,  9.19336942e-01,  1.04817777e+00,\n",
       "         1.08007417e+00,  1.08155823e+00],\n",
       "       [ 0.00000000e+00,  7.54300406e-01,  1.44167410e+00,\n",
       "         2.35474862e+00,  3.60609210e+00,  5.28689827e+00,\n",
       "         7.36322372e+00,  9.43058663e+00,  1.07191233e+01,\n",
       "         1.10411926e+01,  1.10563016e+01]])"
      ]
     },
     "execution_count": 376,
     "metadata": {},
     "output_type": "execute_result"
    }
   ],
   "source": [
    "# Inverting a 20 x 20 matrix takes some time\n",
    "nr(theta0, grad3, np.c_[data, X], inverse_hessian3, max_iter=10)"
   ]
  },
  {
   "cell_type": "code",
   "execution_count": 377,
   "metadata": {},
   "outputs": [
    {
     "name": "stderr",
     "output_type": "stream",
     "text": [
      "/Users/erictay1997/opt/anaconda3/lib/python3.7/site-packages/ipykernel_launcher.py:4: RuntimeWarning: overflow encountered in exp\n",
      "  after removing the cwd from sys.path.\n",
      "/Users/erictay1997/opt/anaconda3/lib/python3.7/site-packages/ipykernel_launcher.py:5: RuntimeWarning: divide by zero encountered in log\n",
      "  \"\"\"\n",
      "/Users/erictay1997/opt/anaconda3/lib/python3.7/site-packages/ipykernel_launcher.py:5: RuntimeWarning: invalid value encountered in multiply\n",
      "  \"\"\"\n",
      "/Users/erictay1997/opt/anaconda3/lib/python3.7/site-packages/ipykernel_launcher.py:13: RuntimeWarning: overflow encountered in exp\n",
      "  del sys.path[0]\n"
     ]
    },
    {
     "data": {
      "text/plain": [
       "array([[ 0.00000000e+00, -7.41717103e+02,  5.00764549e+02,\n",
       "         5.17750520e+02, -1.59358685e+02, -4.29627215e+02,\n",
       "        -1.27263126e+05,  7.89890218e+04,  6.51271154e+04,\n",
       "         1.30674407e+04, -1.10204587e+05],\n",
       "       [ 0.00000000e+00, -4.60052998e+02,  2.24874084e+03,\n",
       "         2.11469268e+03,  8.39608308e+01, -4.06890685e+03,\n",
       "        -2.12342265e+05,  9.10551716e+04,  1.91600980e+05,\n",
       "         9.46649523e+04, -4.61340826e+05],\n",
       "       [ 0.00000000e+00, -1.64227508e+03, -4.89902138e+03,\n",
       "        -4.43222453e+03, -1.04583828e+03,  1.04129486e+04,\n",
       "         1.25661440e+05,  4.46031922e+04, -3.14555109e+05,\n",
       "        -2.32581080e+05,  9.45452057e+05],\n",
       "       [ 0.00000000e+00, -8.90882239e+02, -4.55539089e+02,\n",
       "        -3.16346982e+02, -2.20631092e+01,  2.54320527e+03,\n",
       "        -6.96012349e+04,  7.30578767e+04, -2.33607060e+04,\n",
       "        -4.45696460e+04,  1.39437311e+05],\n",
       "       [ 0.00000000e+00, -1.91044054e+03, -6.50419091e+03,\n",
       "        -5.96572344e+03, -1.71885914e+03,  1.22533265e+04,\n",
       "         1.81341373e+05,  3.54705518e+04, -3.97269702e+05,\n",
       "        -2.85917354e+05,  1.17203172e+06],\n",
       "       [ 0.00000000e+00, -1.78593862e+03, -5.79076921e+03,\n",
       "        -5.21591048e+03, -9.85241949e+02,  1.29036857e+04,\n",
       "         1.76071303e+05,  3.92775469e+04, -3.92076780e+05,\n",
       "        -2.83249574e+05,  1.16324852e+06],\n",
       "       [ 0.00000000e+00, -2.76600572e+02,  3.34598271e+03,\n",
       "         3.22507808e+03,  8.89047306e+02, -3.92237414e+03,\n",
       "        -2.47159491e+05,  1.06036570e+05,  2.27605565e+05,\n",
       "         1.14180891e+05, -5.46810667e+05],\n",
       "       [ 0.00000000e+00, -1.07615825e+03, -1.40770369e+03,\n",
       "        -1.10531612e+03,  3.05329650e+02,  6.20028561e+03,\n",
       "        -1.08723859e+04,  7.25315154e+04, -1.23522319e+05,\n",
       "        -1.12255037e+05,  4.28171290e+05],\n",
       "       [ 0.00000000e+00, -2.06729956e+03, -7.41770617e+03,\n",
       "        -6.74733363e+03, -1.46998890e+03,  1.53422642e+04,\n",
       "         2.48561954e+05,  2.49875223e+04, -4.93600970e+05,\n",
       "        -3.47197064e+05,  1.43958889e+06],\n",
       "       [ 0.00000000e+00, -2.03113579e+03, -7.11799249e+03,\n",
       "        -6.46322048e+03, -1.38275876e+03,  1.49239511e+04,\n",
       "         2.32742026e+05,  2.94620639e+04, -4.74195497e+05,\n",
       "        -3.35701299e+05,  1.38835913e+06],\n",
       "       [ 0.00000000e+00, -1.54377736e+02,  4.02464015e+03,\n",
       "         3.79422876e+03,  7.18200113e+02, -6.42469120e+03,\n",
       "        -2.80981335e+05,  1.02812021e+05,  2.91902571e+05,\n",
       "         1.58913465e+05, -7.35970868e+05],\n",
       "       [ 0.00000000e+00, -1.27410545e+03, -2.65977609e+03,\n",
       "        -2.40326960e+03, -8.27145506e+02,  5.42529492e+03,\n",
       "         1.38632739e+04,  5.92577081e+04, -1.46453379e+05,\n",
       "        -1.23731187e+05,  4.76921380e+05],\n",
       "       [ 0.00000000e+00,  7.15426212e+02,  9.29352907e+03,\n",
       "         8.66163826e+03,  1.79879528e+03, -1.61734814e+04,\n",
       "        -5.23417823e+05,  1.40164982e+05,  6.48494390e+05,\n",
       "         3.88008540e+05, -1.72117790e+06],\n",
       "       [ 0.00000000e+00, -3.26508821e+02,  3.02223308e+03,\n",
       "         2.88662530e+03,  5.81046019e+02, -4.22482620e+03,\n",
       "        -2.39420947e+05,  1.01145428e+05,  2.21999178e+05,\n",
       "         1.11920343e+05, -5.36831229e+05],\n",
       "       [ 0.00000000e+00, -4.57773477e+02,  2.20267282e+03,\n",
       "         2.19073603e+03,  8.13810445e+02, -1.35047062e+03,\n",
       "        -1.83080054e+05,  9.47044498e+04,  1.37004764e+05,\n",
       "         5.68059254e+04, -2.97812283e+05],\n",
       "       [ 0.00000000e+00, -1.24332327e+03, -2.46508727e+03,\n",
       "        -2.13039584e+03, -2.26617111e+02,  7.09044306e+03,\n",
       "         2.30687382e+04,  6.53875211e+04, -1.71448893e+05,\n",
       "        -1.42545991e+05,  5.57234539e+05],\n",
       "       [ 0.00000000e+00, -2.13142526e+03, -7.89995437e+03,\n",
       "        -7.16585072e+03, -1.39979401e+03,  1.68530186e+04,\n",
       "         2.76482668e+05,  2.27029434e+04, -5.37433842e+05,\n",
       "        -3.76008562e+05,  1.56377995e+06],\n",
       "       [ 0.00000000e+00, -2.73634750e+02,  3.36449589e+03,\n",
       "         3.17567117e+03,  4.81386250e+02, -5.43959953e+03,\n",
       "        -2.62358162e+05,  1.03509683e+05,  2.57023616e+05,\n",
       "         1.34739628e+05, -6.35591495e+05],\n",
       "       [ 0.00000000e+00, -6.13353466e+02,  1.32675224e+03,\n",
       "         1.29094907e+03,  6.86439719e+01, -1.75193674e+03,\n",
       "        -1.63334003e+05,  8.52068619e+04,  1.17137935e+05,\n",
       "         4.62472070e+04, -2.52898512e+05],\n",
       "       [ 0.00000000e+00,  1.04690570e+03,  1.13740860e+04,\n",
       "         1.06165521e+04,  2.42030635e+03, -1.92818466e+04,\n",
       "        -6.14304065e+05,  1.57739123e+05,  7.76379532e+05,\n",
       "         4.68758427e+05, -2.06952653e+06]])"
      ]
     },
     "execution_count": 377,
     "metadata": {},
     "output_type": "execute_result"
    }
   ],
   "source": [
    "bfgs(neg_l3, theta0, neg_grad3, np.c_[data, X], max_iter = 10)"
   ]
  },
  {
   "cell_type": "code",
   "execution_count": null,
   "metadata": {},
   "outputs": [],
   "source": []
  }
 ],
 "metadata": {
  "kernelspec": {
   "display_name": "Python 3",
   "language": "python",
   "name": "python3"
  },
  "language_info": {
   "codemirror_mode": {
    "name": "ipython",
    "version": 3
   },
   "file_extension": ".py",
   "mimetype": "text/x-python",
   "name": "python",
   "nbconvert_exporter": "python",
   "pygments_lexer": "ipython3",
   "version": "3.7.6"
  }
 },
 "nbformat": 4,
 "nbformat_minor": 4
}
