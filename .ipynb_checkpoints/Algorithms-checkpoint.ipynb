{
 "cells": [
  {
   "cell_type": "code",
   "execution_count": 18,
   "metadata": {},
   "outputs": [],
   "source": [
    "import numpy as np\n",
    "import pandas as pd"
   ]
  },
  {
   "cell_type": "markdown",
   "metadata": {},
   "source": [
    "# Gradient Descent"
   ]
  },
  {
   "cell_type": "code",
   "execution_count": 3,
   "metadata": {},
   "outputs": [],
   "source": [
    "def gd(theta, grad, eta, data, max_iter=10):\n",
    "    # Takes in original parameter estimate theta, gradient function grad, step-size eta\n",
    "    # Returns parameter estimates obtained after max_iter steps\n",
    "    thetas = np.zeros((theta.shape[0], max_iter + 1))\n",
    "    thetas[:, 0] = theta.flatten()\n",
    "    for i in range(max_iter):\n",
    "        theta = theta + eta * grad(theta, data)\n",
    "        thetas[:, i+1] = theta.flatten()\n",
    "    return thetas"
   ]
  },
  {
   "cell_type": "markdown",
   "metadata": {},
   "source": [
    "# Newton-Raphson"
   ]
  },
  {
   "cell_type": "code",
   "execution_count": 4,
   "metadata": {},
   "outputs": [],
   "source": [
    "def nr(theta, grad, data, inverse_hessian, max_iter=10, eta = 1):\n",
    "    # Takes in original parameter estimate theta, gradient function grad\n",
    "    # Returns parameter estimates obtained after max_iter eta\n",
    "    thetas = np.zeros((theta.shape[0], max_iter + 1))\n",
    "    thetas[:, 0] = theta.flatten()\n",
    "    for i in range(max_iter):\n",
    "        theta = theta - eta*inverse_hessian(theta, data) @ grad(theta, data)\n",
    "        thetas[:, i+1] = theta.flatten()\n",
    "    return thetas"
   ]
  },
  {
   "cell_type": "markdown",
   "metadata": {},
   "source": [
    "# Fisher's scoring"
   ]
  },
  {
   "cell_type": "code",
   "execution_count": 5,
   "metadata": {},
   "outputs": [],
   "source": [
    "def fisher(theta, grad, data, inverse_info, max_iter=10, eta = 1):\n",
    "    # Takes in original parameter estimate theta, gradient function grad\n",
    "    # Returns parameter estimates obtained after max_iter eta\n",
    "    thetas = np.zeros((theta.shape[0], max_iter + 1))\n",
    "    thetas[:, 0] = theta.flatten()\n",
    "    for i in range(max_iter):\n",
    "        theta = theta - eta*inverse_info(theta, data) @ grad(theta, data)\n",
    "        thetas[:, i+1] = theta.flatten()\n",
    "    return thetas"
   ]
  },
  {
   "cell_type": "markdown",
   "metadata": {},
   "source": [
    "# BFGS"
   ]
  },
  {
   "cell_type": "code",
   "execution_count": 17,
   "metadata": {},
   "outputs": [],
   "source": [
    "def bfgs(f, theta, grad, data, max_iter=10):\n",
    "    # Takes in original parameter estimate theta, negative likelihood function f, negative gradient function grad\n",
    "    # Returns parameter estimates obtained after max_iter eta\n",
    "    thetas = np.zeros((theta.shape[0], max_iter + 1))\n",
    "    thetas[:, 0] = theta.flatten()\n",
    "    I = np.diag(np.ones(theta.shape[0]))\n",
    "    B = np.copy(I)\n",
    "    B_inverse = np.copy(I)\n",
    "    for i in range(max_iter):\n",
    "        p = -B_inverse @ grad(theta, data)\n",
    "        alpha = line_search(f, grad, p , theta, 1, data)\n",
    "        s = alpha * p\n",
    "        next_theta = (theta + s)\n",
    "        y = grad(next_theta, data) - grad(theta, data)\n",
    "        B = B + (y @ y.T)/(y.T @ s) - (B @ s @ s.T @ B.T)/(s.T @ B @ s)\n",
    "        B_inverse = (I - (s @ y.T)/(y.T @ s)) @ B_inverse @ (I - (s @ y.T)/(y.T @ s)) + (s @ s.T)/(y.T @ s)\n",
    "        theta = next_theta\n",
    "        thetas[:, i+1] = theta.flatten()\n",
    "    return thetas\n",
    "\n",
    "def line_search(f, grad, p, theta, alpha, data, lower = 0, upper = float(\"inf\"), c1 = 0.0001, c2 = 0.1):\n",
    "    if f(theta, data) + c1 * alpha * p.T @ grad(theta, data) - f(theta + alpha * p, data) < 0:\n",
    "        return line_search(f, grad, p, theta, 0.5*(lower + alpha), data, lower = 0, upper = alpha)\n",
    "    elif -c2 * p.T @ grad(theta, data) + p.T @ grad(theta + alpha * p, data) < 0:\n",
    "        return line_search(f, grad, p, theta, 2*alpha, data, lower = alpha, upper = float(\"inf\"))\n",
    "    return alpha"
   ]
  },
  {
   "cell_type": "markdown",
   "metadata": {},
   "source": [
    "# Example 1 - Poisson, 1 Dimension"
   ]
  },
  {
   "cell_type": "code",
   "execution_count": 84,
   "metadata": {},
   "outputs": [],
   "source": [
    "np.random.seed(0)\n",
    "data = np.random.poisson(lam = 56.3, size = 1000)"
   ]
  },
  {
   "cell_type": "code",
   "execution_count": 85,
   "metadata": {},
   "outputs": [],
   "source": [
    "def l1(theta, data):\n",
    "    return np.sum(data)*np.log(theta) - len(data)*theta\n",
    "\n",
    "def neg_l1(theta, data):\n",
    "    return -l1(theta, data)\n",
    "    \n",
    "def grad1(theta, data):\n",
    "    return np.sum(data)/theta - len(data)\n",
    "\n",
    "def neg_grad1(theta, data):\n",
    "    return -grad1(theta, data)\n",
    "\n",
    "def inverse_hessian1(theta, data):\n",
    "    return -(theta**2)/np.sum(data)\n",
    "\n",
    "def inverse_info1(theta, data):\n",
    "    return -(theta)/len(data)"
   ]
  },
  {
   "cell_type": "code",
   "execution_count": 86,
   "metadata": {},
   "outputs": [],
   "source": [
    "theta0 = np.array([[5]])"
   ]
  },
  {
   "cell_type": "code",
   "execution_count": 87,
   "metadata": {},
   "outputs": [
    {
     "data": {
      "text/plain": [
       "array([ 5.        , 15.2796    , 17.97066521, 20.10900201, 21.91361658,\n",
       "       23.48726753, 24.88848342, 26.1545114 , 27.31085067, 28.37589071,\n",
       "       29.36342303, 30.28411191, 31.14640855, 31.95714702, 32.72194786,\n",
       "       33.44550051, 34.1317662 , 34.78412722, 35.40549894, 35.99841534,\n",
       "       36.56509541, 37.10749533, 37.62734999, 38.12620654, 38.60545153,\n",
       "       39.06633329, 39.50998043, 39.93741723, 40.34957665, 40.74731126,\n",
       "       41.13140259, 41.50256905, 41.86147288, 42.208726  , 42.54489521,\n",
       "       42.87050666, 43.18604977, 43.49198075, 43.78872555, 44.07668265,\n",
       "       44.35622541, 44.6277042 , 44.89144835, 45.14776781, 45.3969547 ,\n",
       "       45.63928473, 45.87501838, 46.10440209, 46.32766923, 46.54504107,\n",
       "       46.75672761, 46.96292836, 47.16383303, 47.35962219, 47.55046784,\n",
       "       47.73653398, 47.91797711, 48.09494666, 48.26758545, 48.43603006,\n",
       "       48.6004112 , 48.76085405, 48.91747859, 49.07039983, 49.21972814,\n",
       "       49.3655695 , 49.50802568, 49.64719451, 49.78317008, 49.9160429 ,\n",
       "       50.04590009, 50.17282557, 50.29690019, 50.4182019 , 50.53680585,\n",
       "       50.65278457, 50.76620806, 50.8771439 , 50.98565738, 51.0918116 ,\n",
       "       51.19566755, 51.2972842 , 51.39671862, 51.49402603, 51.58925987,\n",
       "       51.68247191, 51.77371229, 51.86302958, 51.95047087, 52.03608182,\n",
       "       52.1199067 , 52.20198845, 52.28236875, 52.36108805, 52.4381856 ,\n",
       "       52.51369955, 52.58766693, 52.66012371, 52.73110486, 52.80064437,\n",
       "       52.86877527])"
      ]
     },
     "execution_count": 87,
     "metadata": {},
     "output_type": "execute_result"
    }
   ],
   "source": [
    "%%timeit\n",
    "gd(theta0, grad1, 1/len(data), data, max_iter = 100).flatten()"
   ]
  },
  {
   "cell_type": "code",
   "execution_count": 88,
   "metadata": {},
   "outputs": [
    {
     "data": {
      "text/plain": [
       "array([  5.        , 107.796     , 103.02791955,  98.50196972,\n",
       "        94.2275405 ,  90.21283946,  86.46449946,  82.98717644,\n",
       "        79.78316618,  76.85207592,  74.19058946,  71.79236219,\n",
       "        69.6480725 ,  67.74564046,  66.07060419,  64.60662421,\n",
       "        63.33606963,  62.24063228,  61.30191555,  60.50195433,\n",
       "        59.82363668,  59.25101407,  58.76950095,  58.36597516,\n",
       "        58.02879666,  57.74776436,  57.51402988,  57.31998507,\n",
       "        57.15913627,  57.02597536,  56.91585443,  56.82486846,\n",
       "        56.74974845,  56.68776607,  56.63664991,  56.5945129 ,\n",
       "        56.55978994,  56.53118482,  56.50762529,  56.4882252 ,\n",
       "        56.47225281,  56.45910426,  56.44828152,  56.43937398,\n",
       "        56.43204329,  56.42601067,  56.42104653,  56.41696179,\n",
       "        56.41360078,  56.41083535,  56.40856002])"
      ]
     },
     "execution_count": 88,
     "metadata": {},
     "output_type": "execute_result"
    }
   ],
   "source": [
    "%%timeit\n",
    "gd(theta0, grad1, 10/len(data), data, max_iter = 50).flatten()"
   ]
  },
  {
   "cell_type": "code",
   "execution_count": 89,
   "metadata": {},
   "outputs": [
    {
     "data": {
      "text/plain": [
       "array([ 5.        ,  9.55672187, 17.49404353, 29.56162586, 43.6282036 ,\n",
       "       53.50662619, 56.24976704, 56.39761039, 56.398     , 56.398     ,\n",
       "       56.398     ])"
      ]
     },
     "execution_count": 89,
     "metadata": {},
     "output_type": "execute_result"
    }
   ],
   "source": [
    "%%timeit\n",
    "nr(theta0, grad1, data, inverse_hessian1, max_iter=10).flatten()"
   ]
  },
  {
   "cell_type": "code",
   "execution_count": 90,
   "metadata": {},
   "outputs": [
    {
     "data": {
      "text/plain": [
       "array([ 5.   , 56.398, 56.398, 56.398, 56.398, 56.398, 56.398, 56.398,\n",
       "       56.398, 56.398, 56.398])"
      ]
     },
     "execution_count": 90,
     "metadata": {},
     "output_type": "execute_result"
    }
   ],
   "source": [
    "%%timeit\n",
    "fisher(theta0, grad1, data, inverse_info1, max_iter=10).flatten()"
   ]
  },
  {
   "cell_type": "code",
   "execution_count": 91,
   "metadata": {},
   "outputs": [
    {
     "data": {
      "text/plain": [
       "array([  5.        , 165.61875   ,  10.69020643, 144.91602358,\n",
       "        44.24479993,  59.85877053,  54.42875174,  56.51883968,\n",
       "        56.40221936,  56.39799096,  56.398     ])"
      ]
     },
     "execution_count": 91,
     "metadata": {},
     "output_type": "execute_result"
    }
   ],
   "source": [
    "%%timeit\n",
    "bfgs(neg_l1, theta0, neg_grad1, data).flatten()"
   ]
  },
  {
   "cell_type": "markdown",
   "metadata": {},
   "source": [
    "# Example 2 - Normal Distribution, 2 Dimensions"
   ]
  },
  {
   "cell_type": "code",
   "execution_count": 141,
   "metadata": {},
   "outputs": [],
   "source": [
    "np.random.seed(0)\n",
    "data = np.random.normal(50, 5, size = 1000)"
   ]
  },
  {
   "cell_type": "code",
   "execution_count": 210,
   "metadata": {},
   "outputs": [],
   "source": [
    "def l2(theta, data):\n",
    "    return -(1/2)*np.sum(((data - theta[0])/theta[1])**2) - len(data)*np.log(theta[1])\n",
    "\n",
    "def neg_l2(theta, data):\n",
    "    return -l2(theta, data)\n",
    "    \n",
    "def grad2(theta, data):\n",
    "    return np.array([(np.sum(data) - len(data)*theta[0])/theta[1]**2, \n",
    "                     np.sum((data - theta[0])**2/theta[1]**3) - len(data)/theta[1]])\n",
    "\n",
    "def neg_grad2(theta, data):\n",
    "    return -grad2(theta, data)\n",
    "\n",
    "def inverse_hessian2(theta, data):\n",
    "    return np.linalg.inv(np.r_[np.c_[-len(data)/theta[1]**2, \n",
    "                                     (-2*(np.sum(data) - len(data)*theta[0]))/theta[1]**3], \n",
    "                               np.c_[(-2*(np.sum(data) - len(data)*theta[0]))/theta[1]**3,\n",
    "                                     -3*np.sum((data - theta[0])**2/theta[1]**4) + len(data)/theta[1]**2]])\n",
    "\n",
    "def inverse_info2(theta, data):\n",
    "    return np.linalg.inv(np.r_[np.c_[-len(data)/theta[1]**2, \n",
    "                                     0], \n",
    "                               np.c_[0,\n",
    "                                     -2*len(data)/theta[1]]])"
   ]
  },
  {
   "cell_type": "code",
   "execution_count": 190,
   "metadata": {},
   "outputs": [],
   "source": [
    "theta0 = np.array([10,2])[:, None]"
   ]
  },
  {
   "cell_type": "code",
   "execution_count": 177,
   "metadata": {},
   "outputs": [
    {
     "data": {
      "text/plain": [
       "array([[10.        , 11.98868582, 11.99295811, ..., 49.77371493,\n",
       "        49.77371494, 49.77371495],\n",
       "       [ 2.        , 42.05760957, 42.05675794, ...,  4.93516579,\n",
       "         4.93516579,  4.93516579]])"
      ]
     },
     "execution_count": 177,
     "metadata": {},
     "output_type": "execute_result"
    }
   ],
   "source": [
    "#%%timeit\n",
    "gd(theta0, grad2, 0.2/len(data), data, max_iter = 10000)"
   ]
  },
  {
   "cell_type": "code",
   "execution_count": 203,
   "metadata": {},
   "outputs": [
    {
     "data": {
      "text/plain": [
       "array([[44.        , 45.44342912, 45.50048954, 45.55744463, 45.61429336,\n",
       "        45.67103454, 45.7276668 , 45.78418856, 45.84059807, 45.89689336,\n",
       "        45.95307224, 46.00913231, 46.06507091, 46.12088517, 46.17657195,\n",
       "        46.23212783, 46.28754915, 46.34283193, 46.39797192, 46.45296454,\n",
       "        46.50780489, 46.56248774, 46.61700752, 46.6713583 , 46.72553375,\n",
       "        46.7795272 , 46.83333155, 46.88693929, 46.94034251, 46.99353285,\n",
       "        47.0465015 , 47.0992392 , 47.15173623, 47.2039824 , 47.25596702,\n",
       "        47.30767893, 47.35910648, 47.41023751, 47.46105939, 47.51155899,\n",
       "        47.56172269, 47.61153641, 47.6609856 , 47.71005526, 47.75872996,\n",
       "        47.80699389, 47.85483084, 47.90222429, 47.94915739, 47.99561306,\n",
       "        48.04157399, 48.08702273, 48.13194176, 48.17631349, 48.2201204 ,\n",
       "        48.26334508, 48.30597032, 48.3479792 , 48.38935513, 48.43008199,\n",
       "        48.4701442 , 48.50952681, 48.54821557, 48.58619704, 48.62345865,\n",
       "        48.65998882, 48.69577698, 48.73081366, 48.76509059, 48.79860067,\n",
       "        48.8313381 , 48.86329833, 48.89447817, 48.92487574, 48.9544905 ,\n",
       "        48.98332322, 49.011376  , 49.03865222, 49.0651565 , 49.09089467,\n",
       "        49.11587371, 49.14010169, 49.16358772, 49.18634186, 49.20837506,\n",
       "        49.22969909, 49.25032645, 49.2702703 , 49.28954439, 49.30816296,\n",
       "        49.32614069, 49.34349262, 49.36023408, 49.3763806 , 49.3919479 ,\n",
       "        49.40695177, 49.42140806, 49.4353326 , 49.44874117, 49.46164946,\n",
       "        49.474073  ],\n",
       "       [ 2.        ,  8.7114579 ,  8.66187108,  8.61199798,  8.56184516,\n",
       "         8.51141952,  8.46072827,  8.40977898,  8.3585796 ,  8.30713844,\n",
       "         8.25546425,  8.2035662 ,  8.15145393,  8.09913755,  8.04662767,\n",
       "         7.99393543,  7.94107254,  7.88805128,  7.83488452,  7.78158578,\n",
       "         7.72816923,  7.67464973,  7.62104283,  7.56736483,  7.51363279,\n",
       "         7.45986455,  7.40607874,  7.35229485,  7.29853319,  7.24481494,\n",
       "         7.19116217,  7.13759783,  7.08414578,  7.03083078,  6.9776785 ,\n",
       "         6.92471551,  6.87196928,  6.81946812,  6.76724124,  6.71531864,\n",
       "         6.66373111,  6.61251018,  6.56168803,  6.51129748,  6.46137188,\n",
       "         6.41194499,  6.36305095,  6.31472412,  6.26699898,  6.21990997,\n",
       "         6.1734914 ,  6.12777722,  6.08280095,  6.03859543,  5.99519267,\n",
       "         5.95262371,  5.91091835,  5.87010506,  5.8302107 ,  5.79126043,\n",
       "         5.75327746,  5.71628294,  5.68029575,  5.64533242,  5.61140697,\n",
       "         5.5785308 ,  5.54671266,  5.51595849,  5.48627151,  5.4576521 ,\n",
       "         5.43009788,  5.40360371,  5.37816181,  5.35376176,  5.3303907 ,\n",
       "         5.30803342,  5.28667247,  5.26628842,  5.24685992,  5.22836398,\n",
       "         5.21077612,  5.19407056,  5.17822043,  5.16319796,  5.1489747 ,\n",
       "         5.13552164,  5.12280944,  5.11080861,  5.09948959,  5.088823  ,\n",
       "         5.07877966,  5.06933082,  5.06044819,  5.05210404,  5.04427133,\n",
       "         5.03692372,  5.03003566,  5.02358245,  5.01754022,  5.01188602,\n",
       "         5.00659779]])"
      ]
     },
     "execution_count": 203,
     "metadata": {},
     "output_type": "execute_result"
    }
   ],
   "source": [
    "gd(np.array([44,2])[:, None], grad2, 1/len(data), data, max_iter = 100)"
   ]
  },
  {
   "cell_type": "code",
   "execution_count": 192,
   "metadata": {},
   "outputs": [
    {
     "data": {
      "text/plain": [
       "array([[ 1.00000000e+01, -3.23349838e+01, -1.15640238e+02,\n",
       "        -2.81643301e+02, -6.13353761e+02, -1.27662782e+03,\n",
       "        -2.60310263e+03, -5.25601562e+03, -1.05618233e+04,\n",
       "        -2.11734294e+04, -4.23966371e+04],\n",
       "       [ 2.00000000e+00,  4.06439598e+00,  8.15840678e+00,\n",
       "         1.63313413e+01,  3.26699126e+01,  6.53434361e+01,\n",
       "         1.30688677e+02,  2.61378257e+02,  5.22756964e+02,\n",
       "         1.04551415e+03,  2.09102842e+03]])"
      ]
     },
     "execution_count": 192,
     "metadata": {},
     "output_type": "execute_result"
    }
   ],
   "source": [
    "#%%timeit\n",
    "nr(theta0, grad2, data, inverse_hessian2, max_iter=10)"
   ]
  },
  {
   "cell_type": "code",
   "execution_count": 204,
   "metadata": {},
   "outputs": [
    {
     "data": {
      "text/plain": [
       "array([[44.        , 53.96844118, 50.57424055, 50.26822374, 50.06943558,\n",
       "        49.93741953, 49.8514209 , 49.80086314, 49.77875387, 49.77396276,\n",
       "        49.77371723],\n",
       "       [ 2.        ,  1.27347927,  1.39499509,  1.82585984,  2.37179887,\n",
       "         3.02828461,  3.74699792,  4.40152004,  4.80989846,  4.92748745,\n",
       "         4.93513599]])"
      ]
     },
     "execution_count": 204,
     "metadata": {},
     "output_type": "execute_result"
    }
   ],
   "source": [
    "nr(np.array([44,2])[:, None], grad2, data, inverse_hessian2, max_iter=10)"
   ]
  },
  {
   "cell_type": "code",
   "execution_count": 213,
   "metadata": {},
   "outputs": [
    {
     "data": {
      "text/plain": [
       "array([[ 10.        ,  49.77371646,  49.77371646, ...,  49.77371646,\n",
       "         49.77371646,  49.77371646],\n",
       "       [  2.        , 202.28804783, 201.78834543, ...,   4.93516579,\n",
       "          4.93516579,   4.93516579]])"
      ]
     },
     "execution_count": 213,
     "metadata": {},
     "output_type": "execute_result"
    }
   ],
   "source": [
    "#%%timeit\n",
    "fisher(theta0, grad2, data, inverse_info2, max_iter=1000)"
   ]
  },
  {
   "cell_type": "code",
   "execution_count": 220,
   "metadata": {},
   "outputs": [
    {
     "data": {
      "text/plain": [
       "array([[44.        , 49.77371646, 49.77371646, 49.77371646, 49.77371646,\n",
       "        49.77371646, 49.77371646, 49.77371646, 49.77371646, 49.77371646,\n",
       "        49.77371646, 49.77371646, 49.77371646, 49.77371646, 49.77371646,\n",
       "        49.77371646, 49.77371646, 49.77371646, 49.77371646, 49.77371646,\n",
       "        49.77371646, 49.77371646, 49.77371646, 49.77371646, 49.77371646,\n",
       "        49.77371646, 49.77371646, 49.77371646, 49.77371646, 49.77371646,\n",
       "        49.77371646],\n",
       "       [ 2.        ,  8.7114579 ,  8.37192715,  8.04567627,  7.73380208,\n",
       "         7.43740659,  7.15756255,  6.89527022,  6.65140639,  6.42666857,\n",
       "         6.22151895,  6.03613483,  5.87037268,  5.72375283,  5.59546926,\n",
       "         5.48442526,  5.38929121,  5.30857705,  5.24070986,  5.18410739,\n",
       "         5.13724021,  5.09867863,  5.06712321,  5.04142042,  5.0205662 ,\n",
       "         5.00370076,  4.9900977 ,  4.97915011,  4.97035543,  4.96330059,\n",
       "         4.95764809]])"
      ]
     },
     "execution_count": 220,
     "metadata": {},
     "output_type": "execute_result"
    }
   ],
   "source": [
    "#%%timeit\n",
    "fisher(np.array([44,2])[:, None], grad2, data, inverse_info2, max_iter=30)"
   ]
  },
  {
   "cell_type": "code",
   "execution_count": 225,
   "metadata": {},
   "outputs": [
    {
     "name": "stderr",
     "output_type": "stream",
     "text": [
      "/Users/erictay1997/opt/anaconda3/lib/python3.7/site-packages/ipykernel_launcher.py:2: RuntimeWarning: invalid value encountered in log\n",
      "  \n"
     ]
    },
    {
     "data": {
      "text/plain": [
       "array([[ 1.00000000e+01,  3.20732160e+02,  1.10988431e+03,\n",
       "         1.07689128e+03,  1.09274097e+03,  1.09274097e+03,\n",
       "         1.09274097e+03,  1.09274097e+03, -1.08960272e+04,\n",
       "        -7.41783081e+03,  1.08919716e+07],\n",
       "       [ 2.00000000e+00,  6.26100149e+03,  9.86721009e+02,\n",
       "         1.20698102e+03,  1.08211944e+03,  1.08211944e+03,\n",
       "         1.08211944e+03,  1.08211944e+03, -4.15853555e+03,\n",
       "        -3.47985155e+02,  5.00329071e+05]])"
      ]
     },
     "execution_count": 225,
     "metadata": {},
     "output_type": "execute_result"
    }
   ],
   "source": [
    "#%%timeit\n",
    "#pretty unstable\n",
    "bfgs(neg_l2, theta0, neg_grad2, data)"
   ]
  },
  {
   "cell_type": "markdown",
   "metadata": {},
   "source": [
    "# Example 3 - Logistic Regression, no analytic MLE solution known"
   ]
  },
  {
   "cell_type": "code",
   "execution_count": 387,
   "metadata": {},
   "outputs": [],
   "source": [
    "np.random.seed(0)\n",
    "X = np.random.normal(1,1,(100,3))\n",
    "X[:, 0] = 1\n",
    "theta = np.random.normal(0,5,(3,1))\n",
    "probs = 1/(1+np.exp(-X @ theta))\n",
    "data = np.random.binomial(1,probs)"
   ]
  },
  {
   "cell_type": "code",
   "execution_count": 42,
   "metadata": {},
   "outputs": [],
   "source": [
    "def l3(theta, data):\n",
    "    X = data[:, 1:]\n",
    "    data = data[:, 0][:, None]\n",
    "    probs = 1/(1+np.exp(-X @ theta))\n",
    "    return np.sum(np.log(probs)*data + (1-data)*np.log(1-probs))\n",
    "\n",
    "def neg_l3(theta, data):\n",
    "    return -l3(theta, data)\n",
    "    \n",
    "def grad3(theta, data):\n",
    "    X = data[:, 1:]\n",
    "    data = data[:, 0][:, None]\n",
    "    probs = 1/(1+np.exp(-X @ theta))\n",
    "    return X.T @ (data - probs)\n",
    "\n",
    "def neg_grad3(theta, data):\n",
    "    return -grad3(theta, data)\n",
    "\n",
    "def inverse_hessian3(theta, data):\n",
    "    X = data[:, 1:]\n",
    "    data = data[:, 0][:, None]\n",
    "    probs = 1/(1+np.exp(-X @ theta))\n",
    "    D = np.diag((probs*(1-probs)).flatten())\n",
    "    return -np.linalg.inv(X.T @ D @ X)\n",
    "\n",
    "def inverse_info3(theta, data):\n",
    "    return inverse_hessian3(theta, data)"
   ]
  },
  {
   "cell_type": "code",
   "execution_count": 389,
   "metadata": {},
   "outputs": [
    {
     "name": "stdout",
     "output_type": "stream",
     "text": [
      "[[-6.53263426]\n",
      " [ 8.2906534 ]\n",
      " [-0.59082023]]\n"
     ]
    }
   ],
   "source": [
    "print(theta)"
   ]
  },
  {
   "cell_type": "code",
   "execution_count": 390,
   "metadata": {},
   "outputs": [],
   "source": [
    "theta0 = np.array([0,0,0])[:, None]"
   ]
  },
  {
   "cell_type": "code",
   "execution_count": 391,
   "metadata": {},
   "outputs": [
    {
     "data": {
      "text/plain": [
       "array([[ 0.        ,  0.09      ,  0.02655808, ..., -4.80169901,\n",
       "        -4.80169901, -4.80169901],\n",
       "       [ 0.        ,  0.47420699,  0.68006613, ...,  6.45112124,\n",
       "         6.45112124,  6.45112124],\n",
       "       [ 0.        ,  0.06027239, -0.0236871 , ..., -0.7367028 ,\n",
       "        -0.7367028 , -0.7367028 ]])"
      ]
     },
     "execution_count": 391,
     "metadata": {},
     "output_type": "execute_result"
    }
   ],
   "source": [
    "gd(theta0, grad3, 1/len(data), np.c_[data, X], max_iter = 10000)"
   ]
  },
  {
   "cell_type": "code",
   "execution_count": 392,
   "metadata": {},
   "outputs": [
    {
     "data": {
      "text/plain": [
       "array([[ 0.        , -1.32113501, -2.22772853, -3.20969671, -4.12995695,\n",
       "        -4.67481577, -4.79708705, -4.80169297, -4.80169901, -4.80169901,\n",
       "        -4.80169901],\n",
       "       [ 0.        ,  1.55297532,  2.81474571,  4.2114976 ,  5.51644296,\n",
       "         6.27718601,  6.44489008,  6.45111317,  6.45112124,  6.45112124,\n",
       "         6.45112124],\n",
       "       [ 0.        , -0.04207223, -0.19254868, -0.37966691, -0.58307706,\n",
       "        -0.70817768, -0.73569431, -0.73670151, -0.7367028 , -0.7367028 ,\n",
       "        -0.7367028 ]])"
      ]
     },
     "execution_count": 392,
     "metadata": {},
     "output_type": "execute_result"
    }
   ],
   "source": [
    "nr(theta0, grad3, np.c_[data, X], inverse_hessian3, max_iter=10)"
   ]
  },
  {
   "cell_type": "markdown",
   "metadata": {},
   "source": [
    "Fisher's scoring == NR for logistic regression"
   ]
  },
  {
   "cell_type": "code",
   "execution_count": 393,
   "metadata": {},
   "outputs": [
    {
     "name": "stderr",
     "output_type": "stream",
     "text": [
      "/Users/erictay1997/opt/anaconda3/lib/python3.7/site-packages/ipykernel_launcher.py:5: RuntimeWarning: divide by zero encountered in log\n",
      "  \"\"\"\n",
      "/Users/erictay1997/opt/anaconda3/lib/python3.7/site-packages/ipykernel_launcher.py:5: RuntimeWarning: invalid value encountered in multiply\n",
      "  \"\"\"\n",
      "/Users/erictay1997/opt/anaconda3/lib/python3.7/site-packages/ipykernel_launcher.py:4: RuntimeWarning: overflow encountered in exp\n",
      "  after removing the cwd from sys.path.\n",
      "/Users/erictay1997/opt/anaconda3/lib/python3.7/site-packages/ipykernel_launcher.py:13: RuntimeWarning: overflow encountered in exp\n",
      "  del sys.path[0]\n"
     ]
    },
    {
     "data": {
      "text/plain": [
       "array([[   0.        ,    9.        ,  -49.81565178,  -51.99107168,\n",
       "         -59.46430646,  -72.13427956,  -50.89404287,  -54.52649807,\n",
       "         -52.17169253,  -14.20036426,  158.87705477],\n",
       "       [   0.        ,   47.42069856,   91.94374343,  116.27213427,\n",
       "          97.51058892,   73.83804967,   81.66107679,   73.26897258,\n",
       "          62.38599253,   26.78680038, -310.32436033],\n",
       "       [   0.        ,    6.02723864,  -49.28597822,  -34.94956405,\n",
       "          -6.6782404 ,    3.7517552 ,   -9.28580659,  -17.28250193,\n",
       "          -6.10938799,   -2.93889481,  120.77775543]])"
      ]
     },
     "execution_count": 393,
     "metadata": {},
     "output_type": "execute_result"
    }
   ],
   "source": [
    "bfgs(neg_l3, theta0, neg_grad3, np.c_[data, X], max_iter = 10)\n",
    "# Unstable"
   ]
  },
  {
   "cell_type": "markdown",
   "metadata": {},
   "source": [
    "# Example 4 - Multinomial Linear Regression, higher dimensions"
   ]
  },
  {
   "cell_type": "code",
   "execution_count": 7,
   "metadata": {},
   "outputs": [],
   "source": [
    "n = 5000\n",
    "d = 5000\n",
    "np.random.seed(0)\n",
    "X = np.random.normal(0,1,(n,d))\n",
    "X[:, 0] = 1\n",
    "theta = np.random.normal(0,5,(d,1))\n",
    "data = X @ theta + np.random.normal(0, 1, (n, 1))"
   ]
  },
  {
   "cell_type": "code",
   "execution_count": 9,
   "metadata": {},
   "outputs": [],
   "source": [
    "def l4(theta, data):\n",
    "    X = data[:, 1:]\n",
    "    data = data[:, 0][:, None]\n",
    "    return -(1/2)*np.sum((data - X @ theta)**2)\n",
    "\n",
    "def neg_l4(theta, data):\n",
    "    return -l4(theta, data)\n",
    "    \n",
    "def grad4(theta, data):\n",
    "    X = data[:, 1:]\n",
    "    data = data[:, 0][:, None]\n",
    "    return -(X.T @ X @ theta - X.T @ data)\n",
    "\n",
    "def neg_grad4(theta, data):\n",
    "    return -grad4(theta, data)\n",
    "\n",
    "def inverse_hessian4(theta, data):\n",
    "    return -np.linalg.inv(X.T @ X)\n",
    "\n",
    "def inverse_info4(theta, data):\n",
    "    return inverse_hessian4(theta, data)"
   ]
  },
  {
   "cell_type": "code",
   "execution_count": 11,
   "metadata": {},
   "outputs": [],
   "source": [
    "theta0 = np.zeros(d)[:, None]"
   ]
  },
  {
   "cell_type": "code",
   "execution_count": 24,
   "metadata": {},
   "outputs": [
    {
     "data": {
      "text/plain": [
       "array([[-4.55078862],\n",
       "       [ 2.97279141],\n",
       "       [ 2.88552115],\n",
       "       ...,\n",
       "       [10.17179676],\n",
       "       [-1.29970582],\n",
       "       [-4.44035898]])"
      ]
     },
     "execution_count": 24,
     "metadata": {},
     "output_type": "execute_result"
    }
   ],
   "source": [
    "theta"
   ]
  },
  {
   "cell_type": "code",
   "execution_count": 31,
   "metadata": {},
   "outputs": [
    {
     "name": "stdout",
     "output_type": "stream",
     "text": [
      "CPU times: user 30.4 s, sys: 1.25 s, total: 31.6 s\n",
      "Wall time: 16.2 s\n"
     ]
    },
    {
     "data": {
      "text/plain": [
       "array([[ 0.        , -1.11661088, -1.83053608, ..., -2.79547374,\n",
       "        -2.77211259, -2.73828815],\n",
       "       [ 0.        ,  0.68471983,  1.18074619, ...,  2.36819462,\n",
       "         2.43651835,  2.48956171],\n",
       "       [ 0.        ,  0.26898831,  0.48450603, ...,  1.251248  ,\n",
       "         1.33154855,  1.40323581],\n",
       "       ...,\n",
       "       [ 0.        ,  0.50710425,  0.96400212, ...,  2.81007395,\n",
       "         3.01208557,  3.19427153],\n",
       "       [ 0.        , -0.01158852, -0.07424399, ..., -0.66021176,\n",
       "        -0.747324  , -0.82903936],\n",
       "       [ 0.        , -1.51712103, -2.54898041, ..., -4.68731861,\n",
       "        -4.78957973, -4.86611416]])"
      ]
     },
     "execution_count": 31,
     "metadata": {},
     "output_type": "execute_result"
    }
   ],
   "source": [
    "%%time\n",
    "gd(theta0, grad4, 0.1/len(data), np.c_[data, X], max_iter = 10)"
   ]
  },
  {
   "cell_type": "code",
   "execution_count": 30,
   "metadata": {},
   "outputs": [
    {
     "name": "stdout",
     "output_type": "stream",
     "text": [
      "CPU times: user 14.8 s, sys: 932 ms, total: 15.7 s\n",
      "Wall time: 9.2 s\n"
     ]
    },
    {
     "data": {
      "text/plain": [
       "array([[ 0.        , -5.05029942],\n",
       "       [ 0.        ,  2.69266304],\n",
       "       [ 0.        ,  2.85097117],\n",
       "       ...,\n",
       "       [ 0.        , 11.07451482],\n",
       "       [ 0.        , -1.70834841],\n",
       "       [ 0.        , -3.26267448]])"
      ]
     },
     "execution_count": 30,
     "metadata": {},
     "output_type": "execute_result"
    }
   ],
   "source": [
    "%%time\n",
    "nr(theta0, grad4, np.c_[data, X], inverse_hessian4, max_iter=1)"
   ]
  },
  {
   "cell_type": "code",
   "execution_count": 16,
   "metadata": {},
   "outputs": [
    {
     "name": "stdout",
     "output_type": "stream",
     "text": [
      "1\n",
      "0.5\n",
      "0.25\n",
      "0.125\n",
      "0.0625\n",
      "0.03125\n",
      "0.015625\n",
      "0.0078125\n",
      "0.00390625\n",
      "0.001953125\n",
      "0.0009765625\n",
      "0.00048828125\n",
      "0.000244140625\n",
      "0.0001220703125\n",
      "CPU times: user 1min 23s, sys: 4.53 s, total: 1min 28s\n",
      "Wall time: 47.9 s\n"
     ]
    },
    {
     "data": {
      "text/plain": [
       "array([[ 0.        , -6.81525196],\n",
       "       [ 0.        ,  4.17919819],\n",
       "       [ 0.        ,  1.64177436],\n",
       "       ...,\n",
       "       [ 0.        ,  3.0951187 ],\n",
       "       [ 0.        , -0.07073068],\n",
       "       [ 0.        , -9.25977192]])"
      ]
     },
     "execution_count": 16,
     "metadata": {},
     "output_type": "execute_result"
    }
   ],
   "source": [
    "%%time\n",
    "bfgs(neg_l4, theta0, neg_grad4, np.c_[data, X], max_iter = 1)"
   ]
  },
  {
   "cell_type": "markdown",
   "metadata": {},
   "source": [
    "# Example 5 - Real dataset"
   ]
  },
  {
   "cell_type": "code",
   "execution_count": 49,
   "metadata": {},
   "outputs": [],
   "source": [
    "df = pd.read_csv(\"bmd.csv\")\n",
    "df.sex = (df.sex == \"M\").astype(int)\n",
    "df[\"bmi\"] = df.weight_kg / df.height_cm**2\n",
    "data = (df.fracture == \"fracture\").astype(int).to_numpy()[:,None]\n",
    "X = df[[\"age\", \"sex\", \"bmd\", \"bmi\"]].to_numpy()\n",
    "X = np.c_[np.ones(X.shape[0])[:,None], X]"
   ]
  },
  {
   "cell_type": "code",
   "execution_count": 58,
   "metadata": {},
   "outputs": [
    {
     "name": "stdout",
     "output_type": "stream",
     "text": [
      "Accuracy: 0.8579881656804734\n"
     ]
    }
   ],
   "source": [
    "theta0 = np.array([0,0,0,0,0])[:, None]\n",
    "thetas = nr(theta0, grad3, np.c_[data, X], inverse_hessian3, max_iter=10)\n",
    "final_theta = thetas[:,-1]\n",
    "print(\"Accuracy: {}\".format(np.mean((1/(1+np.exp(-X @ final_theta)) > 0.5) == data.flatten())))"
   ]
  },
  {
   "cell_type": "code",
   "execution_count": null,
   "metadata": {},
   "outputs": [],
   "source": [
    "final_theta"
   ]
  },
  {
   "cell_type": "code",
   "execution_count": 66,
   "metadata": {},
   "outputs": [
    {
     "name": "stdout",
     "output_type": "stream",
     "text": [
      "Accuracy: 0.7041420118343196\n"
     ]
    },
    {
     "name": "stderr",
     "output_type": "stream",
     "text": [
      "/Users/erictay1997/opt/anaconda3/lib/python3.7/site-packages/ipykernel_launcher.py:13: RuntimeWarning: overflow encountered in exp\n",
      "  del sys.path[0]\n",
      "/Users/erictay1997/opt/anaconda3/lib/python3.7/site-packages/ipykernel_launcher.py:3: RuntimeWarning: overflow encountered in exp\n",
      "  This is separate from the ipykernel package so we can avoid doing imports until\n"
     ]
    }
   ],
   "source": [
    "thetas = gd(theta0, grad3, 1/len(data), np.c_[data, X], max_iter = 10)\n",
    "final_theta = thetas[:,-1]\n",
    "print(\"Accuracy: {}\".format(np.mean((1/(1+np.exp(-X @ final_theta)) > 0.5) == data.flatten())))"
   ]
  },
  {
   "cell_type": "code",
   "execution_count": 68,
   "metadata": {},
   "outputs": [
    {
     "name": "stdout",
     "output_type": "stream",
     "text": [
      "Accuracy: 0.4319526627218935\n"
     ]
    },
    {
     "name": "stderr",
     "output_type": "stream",
     "text": [
      "/Users/erictay1997/opt/anaconda3/lib/python3.7/site-packages/ipykernel_launcher.py:4: RuntimeWarning: overflow encountered in exp\n",
      "  after removing the cwd from sys.path.\n",
      "/Users/erictay1997/opt/anaconda3/lib/python3.7/site-packages/ipykernel_launcher.py:5: RuntimeWarning: divide by zero encountered in log\n",
      "  \"\"\"\n",
      "/Users/erictay1997/opt/anaconda3/lib/python3.7/site-packages/ipykernel_launcher.py:5: RuntimeWarning: invalid value encountered in multiply\n",
      "  \"\"\"\n",
      "/Users/erictay1997/opt/anaconda3/lib/python3.7/site-packages/ipykernel_launcher.py:13: RuntimeWarning: overflow encountered in exp\n",
      "  del sys.path[0]\n",
      "/Users/erictay1997/opt/anaconda3/lib/python3.7/site-packages/ipykernel_launcher.py:3: RuntimeWarning: overflow encountered in exp\n",
      "  This is separate from the ipykernel package so we can avoid doing imports until\n"
     ]
    }
   ],
   "source": [
    "thetas = bfgs(neg_l3, theta0, neg_grad3, np.c_[data, X], max_iter = 10)\n",
    "final_theta = thetas[:,-1]\n",
    "print(\"Accuracy: {}\".format(np.mean((1/(1+np.exp(-X @ final_theta)) > 0.5) == data.flatten())))"
   ]
  },
  {
   "cell_type": "code",
   "execution_count": null,
   "metadata": {},
   "outputs": [],
   "source": []
  }
 ],
 "metadata": {
  "kernelspec": {
   "display_name": "Python 3",
   "language": "python",
   "name": "python3"
  },
  "language_info": {
   "codemirror_mode": {
    "name": "ipython",
    "version": 3
   },
   "file_extension": ".py",
   "mimetype": "text/x-python",
   "name": "python",
   "nbconvert_exporter": "python",
   "pygments_lexer": "ipython3",
   "version": "3.7.6"
  }
 },
 "nbformat": 4,
 "nbformat_minor": 4
}
