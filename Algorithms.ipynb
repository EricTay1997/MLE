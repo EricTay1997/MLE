{
 "cells": [
  {
   "cell_type": "code",
   "execution_count": 57,
   "metadata": {},
   "outputs": [],
   "source": [
    "import numpy as np"
   ]
  },
  {
   "cell_type": "markdown",
   "metadata": {},
   "source": [
    "# Gradient Descent"
   ]
  },
  {
   "cell_type": "code",
   "execution_count": 80,
   "metadata": {},
   "outputs": [],
   "source": [
    "def gd(theta, grad, eta, data, max_iter=10):\n",
    "    # Takes in original parameter estimate theta, gradient function grad, step-size eta\n",
    "    # Returns parameter estimates obtained after max_iter steps\n",
    "    thetas = np.zeros((theta.shape[0], max_iter + 1))\n",
    "    thetas[:, 0] = theta.flatten()\n",
    "    for i in range(max_iter):\n",
    "        theta = theta + eta * grad(theta, data)\n",
    "        thetas[:, i+1] = theta.flatten()\n",
    "    return thetas"
   ]
  },
  {
   "cell_type": "markdown",
   "metadata": {},
   "source": [
    "# Newton-Raphson"
   ]
  },
  {
   "cell_type": "code",
   "execution_count": 81,
   "metadata": {},
   "outputs": [],
   "source": [
    "def nr(theta, grad, data, inverse_hessian, max_iter=10):\n",
    "    # Takes in original parameter estimate theta, gradient function grad\n",
    "    # Returns parameter estimates obtained after max_iter eta\n",
    "    thetas = np.zeros((theta.shape[0], max_iter + 1))\n",
    "    thetas[:, 0] = theta.flatten()\n",
    "    for i in range(max_iter):\n",
    "        theta = theta - inverse_hessian(theta, data) @ grad(theta, data)\n",
    "        thetas[:, i+1] = theta.flatten()\n",
    "    return thetas"
   ]
  },
  {
   "cell_type": "markdown",
   "metadata": {},
   "source": [
    "# Fisher's scoring"
   ]
  },
  {
   "cell_type": "code",
   "execution_count": 82,
   "metadata": {},
   "outputs": [],
   "source": [
    "def fisher(theta, grad, data, inverse_info, max_iter=10):\n",
    "    # Takes in original parameter estimate theta, gradient function grad\n",
    "    # Returns parameter estimates obtained after max_iter eta\n",
    "    thetas = np.zeros((theta.shape[0], max_iter + 1))\n",
    "    thetas[:, 0] = theta.flatten()\n",
    "    for i in range(max_iter):\n",
    "        theta = theta - inverse_info(theta, data) @ grad(theta, data)\n",
    "        thetas[:, i+1] = theta.flatten()\n",
    "    return thetas"
   ]
  },
  {
   "cell_type": "markdown",
   "metadata": {},
   "source": [
    "# BFGS"
   ]
  },
  {
   "cell_type": "code",
   "execution_count": 83,
   "metadata": {},
   "outputs": [],
   "source": [
    "def bfgs(f, theta, grad, data, max_iter=10):\n",
    "    # Takes in original parameter estimate theta, negative likelihood function f, negative gradient function grad\n",
    "    # Returns parameter estimates obtained after max_iter eta\n",
    "    thetas = np.zeros((theta.shape[0], max_iter + 1))\n",
    "    thetas[:, 0] = theta.flatten()\n",
    "    I = np.diag(np.ones(theta.shape[0]))\n",
    "    B = np.copy(I)\n",
    "    B_inverse = np.copy(I)\n",
    "    for i in range(max_iter):\n",
    "        p = -B_inverse @ grad(theta, data)\n",
    "        alpha = line_search(f, grad, p , theta, 1, data)\n",
    "        s = alpha * p\n",
    "        next_theta = (theta + s)\n",
    "        y = grad(next_theta, data) - grad(theta, data)\n",
    "        B = B + (y @ y.T)/(y.T @ s) - (B @ s @ s.T @ B.T)/(s.T @ B @ s)\n",
    "        B_inverse = (I - (s @ y.T)/(y.T @ s)) @ B_inverse @ (I - (s @ y.T)/(y.T @ s)) + (s @ s.T)/(y.T @ s)\n",
    "        theta = next_theta\n",
    "        thetas[:, i+1] = theta.flatten()\n",
    "    return thetas\n",
    "\n",
    "def line_search(f, grad, p, theta, alpha, data, lower = 0, upper = float(\"inf\"), c1 = 0.0001, c2 = 0.1):\n",
    "    if f(theta, data) + c1 * alpha * p.T @ grad(theta, data) - f(theta + alpha * p, data) < 0:\n",
    "        return line_search(f, grad, p, theta, 0.5*(lower + alpha), data, lower = 0, upper = alpha)\n",
    "    elif -c2 * p.T @ grad(theta, data) + p.T @ grad(theta + alpha * p, data) < 0:\n",
    "        return line_search(f, grad, p, theta, 2*alpha, data, lower = alpha, upper = float(\"inf\"))\n",
    "    return alpha"
   ]
  },
  {
   "cell_type": "markdown",
   "metadata": {},
   "source": [
    "# Example 1 - Poisson "
   ]
  },
  {
   "cell_type": "code",
   "execution_count": 84,
   "metadata": {},
   "outputs": [],
   "source": [
    "np.random.seed(0)\n",
    "data = np.random.poisson(lam = 56.3, size = 1000)"
   ]
  },
  {
   "cell_type": "code",
   "execution_count": 85,
   "metadata": {},
   "outputs": [],
   "source": [
    "def l1(theta, data):\n",
    "    return np.sum(data)*np.log(theta) - len(data)*theta\n",
    "\n",
    "def neg_l1(theta, data):\n",
    "    return -l1(theta, data)\n",
    "    \n",
    "def grad1(theta, data):\n",
    "    return np.sum(data)/theta - len(data)\n",
    "\n",
    "def neg_grad1(theta, data):\n",
    "    return -grad1(theta, data)\n",
    "\n",
    "def inverse_hessian1(theta, data):\n",
    "    return -(theta**2)/np.sum(data)\n",
    "\n",
    "def inverse_info1(theta, data):\n",
    "    return -(theta)/len(data)"
   ]
  },
  {
   "cell_type": "code",
   "execution_count": 86,
   "metadata": {},
   "outputs": [],
   "source": [
    "theta0 = np.array([[5]])"
   ]
  },
  {
   "cell_type": "code",
   "execution_count": 87,
   "metadata": {},
   "outputs": [
    {
     "data": {
      "text/plain": [
       "array([ 5.        , 15.2796    , 17.97066521, 20.10900201, 21.91361658,\n",
       "       23.48726753, 24.88848342, 26.1545114 , 27.31085067, 28.37589071,\n",
       "       29.36342303, 30.28411191, 31.14640855, 31.95714702, 32.72194786,\n",
       "       33.44550051, 34.1317662 , 34.78412722, 35.40549894, 35.99841534,\n",
       "       36.56509541, 37.10749533, 37.62734999, 38.12620654, 38.60545153,\n",
       "       39.06633329, 39.50998043, 39.93741723, 40.34957665, 40.74731126,\n",
       "       41.13140259, 41.50256905, 41.86147288, 42.208726  , 42.54489521,\n",
       "       42.87050666, 43.18604977, 43.49198075, 43.78872555, 44.07668265,\n",
       "       44.35622541, 44.6277042 , 44.89144835, 45.14776781, 45.3969547 ,\n",
       "       45.63928473, 45.87501838, 46.10440209, 46.32766923, 46.54504107,\n",
       "       46.75672761, 46.96292836, 47.16383303, 47.35962219, 47.55046784,\n",
       "       47.73653398, 47.91797711, 48.09494666, 48.26758545, 48.43603006,\n",
       "       48.6004112 , 48.76085405, 48.91747859, 49.07039983, 49.21972814,\n",
       "       49.3655695 , 49.50802568, 49.64719451, 49.78317008, 49.9160429 ,\n",
       "       50.04590009, 50.17282557, 50.29690019, 50.4182019 , 50.53680585,\n",
       "       50.65278457, 50.76620806, 50.8771439 , 50.98565738, 51.0918116 ,\n",
       "       51.19566755, 51.2972842 , 51.39671862, 51.49402603, 51.58925987,\n",
       "       51.68247191, 51.77371229, 51.86302958, 51.95047087, 52.03608182,\n",
       "       52.1199067 , 52.20198845, 52.28236875, 52.36108805, 52.4381856 ,\n",
       "       52.51369955, 52.58766693, 52.66012371, 52.73110486, 52.80064437,\n",
       "       52.86877527])"
      ]
     },
     "execution_count": 87,
     "metadata": {},
     "output_type": "execute_result"
    }
   ],
   "source": [
    "%%timeit\n",
    "gd(theta0, grad1, 1/len(data), data, max_iter = 100).flatten()"
   ]
  },
  {
   "cell_type": "code",
   "execution_count": 88,
   "metadata": {},
   "outputs": [
    {
     "data": {
      "text/plain": [
       "array([  5.        , 107.796     , 103.02791955,  98.50196972,\n",
       "        94.2275405 ,  90.21283946,  86.46449946,  82.98717644,\n",
       "        79.78316618,  76.85207592,  74.19058946,  71.79236219,\n",
       "        69.6480725 ,  67.74564046,  66.07060419,  64.60662421,\n",
       "        63.33606963,  62.24063228,  61.30191555,  60.50195433,\n",
       "        59.82363668,  59.25101407,  58.76950095,  58.36597516,\n",
       "        58.02879666,  57.74776436,  57.51402988,  57.31998507,\n",
       "        57.15913627,  57.02597536,  56.91585443,  56.82486846,\n",
       "        56.74974845,  56.68776607,  56.63664991,  56.5945129 ,\n",
       "        56.55978994,  56.53118482,  56.50762529,  56.4882252 ,\n",
       "        56.47225281,  56.45910426,  56.44828152,  56.43937398,\n",
       "        56.43204329,  56.42601067,  56.42104653,  56.41696179,\n",
       "        56.41360078,  56.41083535,  56.40856002])"
      ]
     },
     "execution_count": 88,
     "metadata": {},
     "output_type": "execute_result"
    }
   ],
   "source": [
    "%%timeit\n",
    "gd(theta0, grad1, 10/len(data), data, max_iter = 50).flatten()"
   ]
  },
  {
   "cell_type": "code",
   "execution_count": 89,
   "metadata": {},
   "outputs": [
    {
     "data": {
      "text/plain": [
       "array([ 5.        ,  9.55672187, 17.49404353, 29.56162586, 43.6282036 ,\n",
       "       53.50662619, 56.24976704, 56.39761039, 56.398     , 56.398     ,\n",
       "       56.398     ])"
      ]
     },
     "execution_count": 89,
     "metadata": {},
     "output_type": "execute_result"
    }
   ],
   "source": [
    "%%timeit\n",
    "nr(theta0, grad1, data, inverse_hessian1, max_iter=10).flatten()"
   ]
  },
  {
   "cell_type": "code",
   "execution_count": 90,
   "metadata": {},
   "outputs": [
    {
     "data": {
      "text/plain": [
       "array([ 5.   , 56.398, 56.398, 56.398, 56.398, 56.398, 56.398, 56.398,\n",
       "       56.398, 56.398, 56.398])"
      ]
     },
     "execution_count": 90,
     "metadata": {},
     "output_type": "execute_result"
    }
   ],
   "source": [
    "%%timeit\n",
    "fisher(theta0, grad1, data, inverse_info1, max_iter=10).flatten()"
   ]
  },
  {
   "cell_type": "code",
   "execution_count": 91,
   "metadata": {},
   "outputs": [
    {
     "data": {
      "text/plain": [
       "array([  5.        , 165.61875   ,  10.69020643, 144.91602358,\n",
       "        44.24479993,  59.85877053,  54.42875174,  56.51883968,\n",
       "        56.40221936,  56.39799096,  56.398     ])"
      ]
     },
     "execution_count": 91,
     "metadata": {},
     "output_type": "execute_result"
    }
   ],
   "source": [
    "%%timeit\n",
    "bfgs(neg_l1, theta0, neg_grad1, data).flatten()"
   ]
  },
  {
   "cell_type": "markdown",
   "metadata": {},
   "source": [
    "# Example 2 - Normal Distribution"
   ]
  },
  {
   "cell_type": "code",
   "execution_count": 92,
   "metadata": {},
   "outputs": [],
   "source": [
    "np.random.seed(0)\n",
    "data = np.random.normal(50, 5, size = 1000)"
   ]
  },
  {
   "cell_type": "code",
   "execution_count": 131,
   "metadata": {},
   "outputs": [],
   "source": [
    "def l2(theta, data):\n",
    "    return -(1/2)*np.sum(((data - theta[0])/theta[1])**2) - len(data)*np.log(theta[1])\n",
    "\n",
    "def neg_l2(theta, data):\n",
    "    return -l2(theta, data)\n",
    "    \n",
    "def grad2(theta, data):\n",
    "    return np.array([(np.sum(data) - len(data)*theta[0])/theta[1]**2, \n",
    "                     np.sum((data - theta[0])**2/theta[1]**3) - len(data)/theta[1]])\n",
    "\n",
    "def neg_grad2(theta, data):\n",
    "    return -grad2(theta, data)\n",
    "\n",
    "def inverse_hessian2(theta, data):\n",
    "    return np.linalg.inv(np.r_[np.c_[-len(data)/theta[1]**2, \n",
    "                                     (-2*(np.sum(data) - len(data)*theta[0]))/theta[1]**3], \n",
    "                               np.c_[(-2*(np.sum(data) - len(data)*theta[0]))/theta[1]**3,\n",
    "                                     -3*np.sum((data - theta[0])**2/theta[1]**4) + len(data)/theta[1]**2]])\n",
    "\n",
    "def inverse_info2(theta, data):\n",
    "    return np.linalg.inv(np.r_[np.c_[len(data)/theta[1]**2, \n",
    "                                     0], \n",
    "                               np.c_[0,\n",
    "                                     2*len(data)/theta[1]]])"
   ]
  },
  {
   "cell_type": "code",
   "execution_count": 98,
   "metadata": {},
   "outputs": [],
   "source": [
    "theta0 = np.array([10,2])[:, None]"
   ]
  },
  {
   "cell_type": "code",
   "execution_count": 112,
   "metadata": {},
   "outputs": [
    {
     "data": {
      "text/plain": [
       "array([[ 10.        ,  19.94342912,  19.9441581 ,  19.9448871 ,\n",
       "         19.94561611,  19.94634515,  19.9470742 ,  19.94780326,\n",
       "         19.94853235,  19.94926145,  19.94999057],\n",
       "       [  2.        , 202.28804783, 202.28321483, 202.27838171,\n",
       "        202.27354847, 202.26871512, 202.26388165, 202.25904807,\n",
       "        202.25421438, 202.24938056, 202.24454663]])"
      ]
     },
     "execution_count": 112,
     "metadata": {},
     "output_type": "execute_result"
    }
   ],
   "source": [
    "#%%timeit\n",
    "gd(theta0, grad2, 1/len(data), data, max_iter = 10)"
   ]
  },
  {
   "cell_type": "code",
   "execution_count": 115,
   "metadata": {},
   "outputs": [
    {
     "data": {
      "text/plain": [
       "array([[ 10.        ,  49.77371646,  49.77371646,  49.77371646,\n",
       "         49.77371646,  49.77371646,  49.77371646,  49.77371646,\n",
       "         49.77371646,  49.77371646,  49.77371646],\n",
       "       [  2.        , 240.86858231, 232.93500858, 225.07181561,\n",
       "        217.28327493, 209.57400423, 201.94899901, 194.41366666,\n",
       "        186.97386303, 179.63593117, 172.4067419 ]])"
      ]
     },
     "execution_count": 115,
     "metadata": {},
     "output_type": "execute_result"
    }
   ],
   "source": [
    "#%%timeit\n",
    "gd(theta0, grad1, 10/len(data), data, max_iter = 10)"
   ]
  },
  {
   "cell_type": "code",
   "execution_count": 121,
   "metadata": {},
   "outputs": [
    {
     "data": {
      "text/plain": [
       "array([[1.00000000e+01, 4.07737165e+02, 3.19944469e+02, 2.35501455e+02,\n",
       "        1.56636660e+02, 8.84132039e+01, 4.47099043e+01, 5.60358337e+01,\n",
       "        4.48606324e+01, 5.58125156e+01, 4.49927217e+01, 5.56188732e+01,\n",
       "        4.51095687e+01, 5.54491660e+01, 4.52137559e+01, 5.52990949e+01,\n",
       "        4.53072886e+01, 5.51653666e+01, 4.53917523e+01, 5.50454094e+01,\n",
       "        4.54684201e+01, 5.49371818e+01, 4.55383281e+01, 5.48390392e+01,\n",
       "        4.56023297e+01, 5.47496404e+01, 4.56611352e+01, 5.46678786e+01,\n",
       "        4.57153415e+01, 5.45928318e+01, 4.57654544e+01, 5.45237245e+01,\n",
       "        4.58119058e+01, 5.44598993e+01, 4.58550673e+01, 5.44007950e+01,\n",
       "        4.58952602e+01, 5.43459286e+01, 4.59327646e+01, 5.42948824e+01,\n",
       "        4.59678251e+01, 5.42472930e+01, 4.60006575e+01, 5.42028424e+01,\n",
       "        4.60314518e+01, 5.41612511e+01, 4.60603773e+01, 5.41222722e+01,\n",
       "        4.60875842e+01, 5.40856868e+01, 4.61132072e+01, 5.40513002e+01,\n",
       "        4.61373671e+01, 5.40189381e+01, 4.61601727e+01, 5.39884445e+01,\n",
       "        4.61817220e+01, 5.39596790e+01, 4.62021041e+01, 5.39325147e+01,\n",
       "        4.62213997e+01, 5.39068372e+01, 4.62396822e+01, 5.38825423e+01,\n",
       "        4.62570189e+01, 5.38595355e+01, 4.62734711e+01, 5.38377304e+01,\n",
       "        4.62890951e+01, 5.38170482e+01, 4.63039424e+01, 5.37974167e+01,\n",
       "        4.63180608e+01, 5.37787696e+01, 4.63314941e+01, 5.37610460e+01,\n",
       "        4.63442827e+01, 5.37441896e+01, 4.63564642e+01, 5.37281486e+01,\n",
       "        4.63680734e+01, 5.37128751e+01, 4.63791425e+01, 5.36983248e+01,\n",
       "        4.63897014e+01, 5.36844564e+01, 4.63997781e+01, 5.36712317e+01,\n",
       "        4.64093986e+01, 5.36586152e+01, 4.64185872e+01, 5.36465738e+01,\n",
       "        4.64273666e+01, 5.36350764e+01, 4.64357579e+01, 5.36240944e+01,\n",
       "        4.64437812e+01, 5.36136007e+01, 4.64514549e+01, 5.36035700e+01,\n",
       "        4.64587967e+01],\n",
       "       [2.00000000e+00, 2.39068582e+03, 2.29276781e+03, 2.19493871e+03,\n",
       "        2.09720637e+03, 1.99957970e+03, 1.90206891e+03, 1.80468573e+03,\n",
       "        1.70744376e+03, 1.61035886e+03, 1.51344970e+03, 1.41673846e+03,\n",
       "        1.32025172e+03, 1.22402174e+03, 1.12808815e+03, 1.03250037e+03,\n",
       "        9.37321066e+02, 8.42631276e+02, 7.48538215e+02, 6.55187670e+02,\n",
       "        5.62784535e+02, 4.71628721e+02, 3.82182302e+02, 2.95205855e+02,\n",
       "        2.12066536e+02, 1.35537338e+02, 7.22605886e+01, 4.11414508e+01,\n",
       "        6.21233693e+01, 4.22441307e+01, 6.00681116e+01, 4.29302412e+01,\n",
       "        5.88711609e+01, 4.34180183e+01, 5.80564067e+01, 4.37897810e+01,\n",
       "        5.74549223e+01, 4.40858226e+01, 5.69876889e+01, 4.43288628e+01,\n",
       "        5.66117262e+01, 4.45329394e+01, 5.63012555e+01, 4.47073062e+01,\n",
       "        5.60397051e+01, 4.48583675e+01, 5.58158527e+01, 4.49907269e+01,\n",
       "        5.56217833e+01, 4.51077967e+01, 5.54517285e+01, 4.52121702e+01,\n",
       "        5.53013701e+01, 4.53058607e+01, 5.51674011e+01, 4.53904594e+01,\n",
       "        5.50472400e+01, 4.54672438e+01, 5.49388377e+01, 4.55372532e+01,\n",
       "        5.48405444e+01, 4.56013438e+01, 5.47510142e+01, 4.56602278e+01,\n",
       "        5.46691374e+01, 4.57145038e+01, 5.45939892e+01, 4.57646789e+01,\n",
       "        5.45247919e+01, 4.58111861e+01, 5.44608865e+01, 4.58543978e+01,\n",
       "        5.44017103e+01, 4.58946362e+01, 5.43467792e+01, 4.59321817e+01,\n",
       "        5.42956747e+01, 4.59672798e+01, 5.42480323e+01, 4.60001463e+01,\n",
       "        5.42035336e+01, 4.60309721e+01, 5.41618983e+01, 4.60599263e+01,\n",
       "        5.41228792e+01, 4.60871597e+01, 5.40862570e+01, 4.61128072e+01,\n",
       "        5.40518364e+01, 4.61369898e+01, 5.40194431e+01, 4.61598163e+01,\n",
       "        5.39889206e+01, 4.61813851e+01, 5.39601283e+01, 4.62017853e+01,\n",
       "        5.39329393e+01, 4.62210977e+01, 5.39072387e+01, 4.62393960e+01,\n",
       "        5.38829224e+01]])"
      ]
     },
     "execution_count": 121,
     "metadata": {},
     "output_type": "execute_result"
    }
   ],
   "source": [
    "#%%timeit\n",
    "gd(theta0, grad1, 100/len(data), data, max_iter = 100)"
   ]
  },
  {
   "cell_type": "code",
   "execution_count": 123,
   "metadata": {},
   "outputs": [
    {
     "data": {
      "text/plain": [
       "array([[ 1.00000000e+01, -3.23349838e+01, -1.15640238e+02,\n",
       "        -2.81643301e+02, -6.13353761e+02, -1.27662782e+03,\n",
       "        -2.60310263e+03, -5.25601562e+03, -1.05618233e+04,\n",
       "        -2.11734294e+04, -4.23966371e+04],\n",
       "       [ 2.00000000e+00,  4.06439598e+00,  8.15840678e+00,\n",
       "         1.63313413e+01,  3.26699126e+01,  6.53434361e+01,\n",
       "         1.30688677e+02,  2.61378257e+02,  5.22756964e+02,\n",
       "         1.04551415e+03,  2.09102842e+03]])"
      ]
     },
     "execution_count": 123,
     "metadata": {},
     "output_type": "execute_result"
    }
   ],
   "source": [
    "#%%timeit\n",
    "nr(theta0, grad2, data, inverse_hessian2, max_iter=10)"
   ]
  },
  {
   "cell_type": "code",
   "execution_count": 125,
   "metadata": {},
   "outputs": [
    {
     "data": {
      "text/plain": [
       "array([[ 1.00000000e+01, -2.97737165e+01, -1.09321149e+02,\n",
       "        -2.68416015e+02, -5.86605747e+02, -1.22298521e+03,\n",
       "        -2.49574414e+03, -5.04126199e+03, -1.01322977e+04,\n",
       "        -2.03143691e+04, -4.06785119e+04],\n",
       "       [ 2.00000000e+00, -1.98288048e+02, -1.97868827e+02,\n",
       "        -1.97692380e+02, -1.98487968e+02, -2.03127931e+02,\n",
       "        -2.22258349e+02, -2.87343839e+02, -4.43800199e+02,\n",
       "        -7.06488996e+02, -1.12141291e+03]])"
      ]
     },
     "execution_count": 125,
     "metadata": {},
     "output_type": "execute_result"
    }
   ],
   "source": [
    "#%%timeit\n",
    "fisher(theta0, grad2, data, inverse_info2, max_iter=10)"
   ]
  },
  {
   "cell_type": "code",
   "execution_count": 132,
   "metadata": {},
   "outputs": [
    {
     "name": "stderr",
     "output_type": "stream",
     "text": [
      "/Users/erictay1997/opt/anaconda3/lib/python3.7/site-packages/ipykernel_launcher.py:2: RuntimeWarning: invalid value encountered in log\n",
      "  \n"
     ]
    },
    {
     "data": {
      "text/plain": [
       "array([[ 1.00000000e+01,  3.20732160e+02,  1.10988431e+03,\n",
       "         1.07689128e+03,  1.09274097e+03,  1.09274097e+03,\n",
       "         1.09274097e+03,  1.09274097e+03, -1.08960272e+04,\n",
       "        -7.41783081e+03,  1.08919716e+07],\n",
       "       [ 2.00000000e+00,  6.26100149e+03,  9.86721009e+02,\n",
       "         1.20698102e+03,  1.08211944e+03,  1.08211944e+03,\n",
       "         1.08211944e+03,  1.08211944e+03, -4.15853555e+03,\n",
       "        -3.47985155e+02,  5.00329071e+05]])"
      ]
     },
     "execution_count": 132,
     "metadata": {},
     "output_type": "execute_result"
    }
   ],
   "source": [
    "#%%timeit\n",
    "bfgs(neg_l2, theta0, neg_grad2, data)"
   ]
  }
 ],
 "metadata": {
  "kernelspec": {
   "display_name": "Python 3",
   "language": "python",
   "name": "python3"
  },
  "language_info": {
   "codemirror_mode": {
    "name": "ipython",
    "version": 3
   },
   "file_extension": ".py",
   "mimetype": "text/x-python",
   "name": "python",
   "nbconvert_exporter": "python",
   "pygments_lexer": "ipython3",
   "version": "3.7.6"
  }
 },
 "nbformat": 4,
 "nbformat_minor": 4
}
