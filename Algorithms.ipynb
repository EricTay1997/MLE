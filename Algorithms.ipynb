{
 "cells": [
  {
   "cell_type": "code",
   "execution_count": 1,
   "metadata": {},
   "outputs": [],
   "source": [
    "import numpy as np\n",
    "import pandas as pd\n",
    "import matplotlib.pyplot as plt"
   ]
  },
  {
   "cell_type": "markdown",
   "metadata": {},
   "source": [
    "# Gradient Descent"
   ]
  },
  {
   "cell_type": "code",
   "execution_count": 2,
   "metadata": {},
   "outputs": [],
   "source": [
    "def gd(theta, grad, eta, data, max_iter=10):\n",
    "    # Takes in original parameter estimate theta, gradient function grad, step-size eta\n",
    "    # Returns parameter estimates obtained after max_iter steps\n",
    "    thetas = np.zeros((theta.shape[0], max_iter + 1))\n",
    "    thetas[:, 0] = theta.flatten()\n",
    "    for i in range(max_iter):\n",
    "        theta = theta + eta * grad(theta, data)\n",
    "        thetas[:, i+1] = theta.flatten()\n",
    "    return thetas"
   ]
  },
  {
   "cell_type": "markdown",
   "metadata": {},
   "source": [
    "# Newton-Raphson"
   ]
  },
  {
   "cell_type": "code",
   "execution_count": 3,
   "metadata": {},
   "outputs": [],
   "source": [
    "def nr(theta, grad, data, inverse_hessian, max_iter=10, eta = 1):\n",
    "    # Takes in original parameter estimate theta, gradient function grad\n",
    "    # Returns parameter estimates obtained after max_iter eta\n",
    "    thetas = np.zeros((theta.shape[0], max_iter + 1))\n",
    "    thetas[:, 0] = theta.flatten()\n",
    "    for i in range(max_iter):\n",
    "        theta = theta - eta*inverse_hessian(theta, data) @ grad(theta, data)\n",
    "        thetas[:, i+1] = theta.flatten()\n",
    "    return thetas"
   ]
  },
  {
   "cell_type": "markdown",
   "metadata": {},
   "source": [
    "# Fisher's scoring"
   ]
  },
  {
   "cell_type": "code",
   "execution_count": 4,
   "metadata": {},
   "outputs": [],
   "source": [
    "def fisher(theta, grad, data, inverse_info, max_iter=10, eta = 1):\n",
    "    # Takes in original parameter estimate theta, gradient function grad\n",
    "    # Returns parameter estimates obtained after max_iter eta\n",
    "    thetas = np.zeros((theta.shape[0], max_iter + 1))\n",
    "    thetas[:, 0] = theta.flatten()\n",
    "    for i in range(max_iter):\n",
    "        theta = theta - eta*inverse_info(theta, data) @ grad(theta, data)\n",
    "        thetas[:, i+1] = theta.flatten()\n",
    "    return thetas"
   ]
  },
  {
   "cell_type": "markdown",
   "metadata": {},
   "source": [
    "# BFGS"
   ]
  },
  {
   "cell_type": "code",
   "execution_count": 5,
   "metadata": {},
   "outputs": [],
   "source": [
    "def bfgs(f, theta, grad, data, max_iter=10):\n",
    "    # Takes in original parameter estimate theta, negative likelihood function f, negative gradient function grad\n",
    "    # Returns parameter estimates obtained after max_iter eta\n",
    "    thetas = np.zeros((theta.shape[0], max_iter + 1))\n",
    "    thetas[:, 0] = theta.flatten()\n",
    "    I = np.diag(np.ones(theta.shape[0]))\n",
    "    B = np.copy(I)\n",
    "    B_inverse = np.copy(I)\n",
    "    for i in range(max_iter):\n",
    "        p = -B_inverse @ grad(theta, data)\n",
    "        alpha = line_search(f, grad, p , theta, 1, data)\n",
    "        s = alpha * p\n",
    "        next_theta = (theta + s)\n",
    "        y = grad(next_theta, data) - grad(theta, data)\n",
    "        B = B + (y @ y.T)/(y.T @ s) - (B @ s @ s.T @ B.T)/(s.T @ B @ s)\n",
    "        B_inverse = (I - (s @ y.T)/(y.T @ s)) @ B_inverse @ (I - (s @ y.T)/(y.T @ s)) + (s @ s.T)/(y.T @ s)\n",
    "        theta = next_theta\n",
    "        thetas[:, i+1] = theta.flatten()\n",
    "    return thetas\n",
    "\n",
    "def line_search(f, grad, p, theta, alpha, data, lower = 0, upper = float(\"inf\"), c1 = 0.0001, c2 = 0.1):\n",
    "    if f(theta, data) + c1 * alpha * p.T @ grad(theta, data) - f(theta + alpha * p, data) < 0:\n",
    "        return line_search(f, grad, p, theta, 0.5*(lower + alpha), data, lower = 0, upper = alpha)\n",
    "    elif -c2 * p.T @ grad(theta, data) + p.T @ grad(theta + alpha * p, data) < 0:\n",
    "        return line_search(f, grad, p, theta, 2*alpha, data, lower = alpha, upper = float(\"inf\"))\n",
    "    return alpha"
   ]
  },
  {
   "cell_type": "markdown",
   "metadata": {},
   "source": [
    "# Example 1 - Poisson, 1 Dimension"
   ]
  },
  {
   "cell_type": "code",
   "execution_count": 6,
   "metadata": {},
   "outputs": [],
   "source": [
    "np.random.seed(0)\n",
    "data = np.random.poisson(lam = 56.3, size = 1000)"
   ]
  },
  {
   "cell_type": "code",
   "execution_count": 7,
   "metadata": {},
   "outputs": [],
   "source": [
    "def l1(theta, data):\n",
    "    return np.sum(data)*np.log(theta) - len(data)*theta\n",
    "\n",
    "def neg_l1(theta, data):\n",
    "    return -l1(theta, data)\n",
    "    \n",
    "def grad1(theta, data):\n",
    "    return np.sum(data)/theta - len(data)\n",
    "\n",
    "def neg_grad1(theta, data):\n",
    "    return -grad1(theta, data)\n",
    "\n",
    "def inverse_hessian1(theta, data):\n",
    "    return -(theta**2)/np.sum(data)\n",
    "\n",
    "def inverse_info1(theta, data):\n",
    "    return -(theta)/len(data)"
   ]
  },
  {
   "cell_type": "code",
   "execution_count": 8,
   "metadata": {},
   "outputs": [],
   "source": [
    "theta0 = np.array([[5]])"
   ]
  },
  {
   "cell_type": "code",
   "execution_count": 9,
   "metadata": {},
   "outputs": [
    {
     "name": "stdout",
     "output_type": "stream",
     "text": [
      "CPU times: user 1.53 ms, sys: 500 µs, total: 2.03 ms\n",
      "Wall time: 1.53 ms\n"
     ]
    },
    {
     "data": {
      "text/plain": [
       "array([  5.        , 107.796     , 103.02791955,  98.50196972,\n",
       "        94.2275405 ,  90.21283946,  86.46449946,  82.98717644,\n",
       "        79.78316618,  76.85207592,  74.19058946,  71.79236219,\n",
       "        69.6480725 ,  67.74564046,  66.07060419,  64.60662421,\n",
       "        63.33606963,  62.24063228,  61.30191555,  60.50195433,\n",
       "        59.82363668,  59.25101407,  58.76950095,  58.36597516,\n",
       "        58.02879666,  57.74776436,  57.51402988,  57.31998507,\n",
       "        57.15913627,  57.02597536,  56.91585443,  56.82486846,\n",
       "        56.74974845,  56.68776607,  56.63664991,  56.5945129 ,\n",
       "        56.55978994,  56.53118482,  56.50762529,  56.4882252 ,\n",
       "        56.47225281,  56.45910426,  56.44828152,  56.43937398,\n",
       "        56.43204329,  56.42601067,  56.42104653,  56.41696179,\n",
       "        56.41360078,  56.41083535,  56.40856002])"
      ]
     },
     "execution_count": 9,
     "metadata": {},
     "output_type": "execute_result"
    }
   ],
   "source": [
    "%%time\n",
    "thetas0 = gd(theta0, grad1, 10/len(data), data, max_iter = 50).flatten()\n",
    "thetas0"
   ]
  },
  {
   "cell_type": "code",
   "execution_count": 10,
   "metadata": {},
   "outputs": [
    {
     "name": "stdout",
     "output_type": "stream",
     "text": [
      "CPU times: user 702 µs, sys: 1.03 ms, total: 1.73 ms\n",
      "Wall time: 1.47 ms\n"
     ]
    },
    {
     "data": {
      "text/plain": [
       "array([ 5.        ,  9.55672187, 17.49404353, 29.56162586, 43.6282036 ,\n",
       "       53.50662619, 56.24976704, 56.39761039, 56.398     , 56.398     ,\n",
       "       56.398     ])"
      ]
     },
     "execution_count": 10,
     "metadata": {},
     "output_type": "execute_result"
    }
   ],
   "source": [
    "%%time\n",
    "thetas1 = nr(theta0, grad1, data, inverse_hessian1, max_iter=10).flatten()\n",
    "thetas1"
   ]
  },
  {
   "cell_type": "code",
   "execution_count": 11,
   "metadata": {},
   "outputs": [
    {
     "name": "stdout",
     "output_type": "stream",
     "text": [
      "CPU times: user 607 µs, sys: 290 µs, total: 897 µs\n",
      "Wall time: 677 µs\n"
     ]
    },
    {
     "data": {
      "text/plain": [
       "array([ 5.   , 56.398, 56.398, 56.398, 56.398, 56.398, 56.398, 56.398,\n",
       "       56.398, 56.398, 56.398])"
      ]
     },
     "execution_count": 11,
     "metadata": {},
     "output_type": "execute_result"
    }
   ],
   "source": [
    "%%time\n",
    "thetas2 = fisher(theta0, grad1, data, inverse_info1, max_iter=10).flatten()\n",
    "thetas2"
   ]
  },
  {
   "cell_type": "code",
   "execution_count": 12,
   "metadata": {},
   "outputs": [
    {
     "name": "stdout",
     "output_type": "stream",
     "text": [
      "CPU times: user 5.78 ms, sys: 1.16 ms, total: 6.94 ms\n",
      "Wall time: 25.5 ms\n"
     ]
    },
    {
     "data": {
      "text/plain": [
       "array([  5.        , 165.61875   ,  10.69020643, 144.91602358,\n",
       "        44.24479993,  59.85877053,  54.42875174,  56.51883968,\n",
       "        56.40221936,  56.39799096,  56.398     ])"
      ]
     },
     "execution_count": 12,
     "metadata": {},
     "output_type": "execute_result"
    }
   ],
   "source": [
    "%%time\n",
    "thetas3 = bfgs(neg_l1, theta0, neg_grad1, data).flatten()\n",
    "thetas3"
   ]
  },
  {
   "cell_type": "code",
   "execution_count": 13,
   "metadata": {},
   "outputs": [
    {
     "data": {
      "text/plain": [
       "<matplotlib.legend.Legend at 0x11b1b1150>"
      ]
     },
     "execution_count": 13,
     "metadata": {},
     "output_type": "execute_result"
    },
    {
     "data": {
      "image/png": "[encoded data removed]",
      "text/plain": [
       "<Figure size 720x432 with 1 Axes>"
      ]
     },
     "metadata": {
      "needs_background": "light"
     },
     "output_type": "display_data"
    }
   ],
   "source": [
    "plt.figure(figsize= (10,6))\n",
    "plt.plot(list(range(len(thetas0))), thetas0, label = \"Gradient Descent\")\n",
    "plt.plot(list(range(len(thetas1))), thetas1, label = \"Newton-Raphson\")\n",
    "plt.plot(list(range(len(thetas2))), thetas2, label = \"Fishers Scoring\")\n",
    "plt.plot(list(range(len(thetas3))), thetas3, label = \"BFGS\")\n",
    "plt.hlines(np.mean(data), xmin = 0, xmax = 50, label = \"Analytical MLE\", color = \"y\")\n",
    "plt.xlabel(\"Iteration\")\n",
    "plt.ylabel(\"Lambda\")\n",
    "plt.title(\"Poisson Distribution\")\n",
    "plt.legend();"
   ]
  },
  {
   "cell_type": "markdown",
   "metadata": {},
   "source": [
    "# Example 2 - Normal Distribution, 2 Dimensions"
   ]
  },
  {
   "cell_type": "code",
   "execution_count": 14,
   "metadata": {},
   "outputs": [],
   "source": [
    "np.random.seed(0)\n",
    "data = np.random.normal(50, 5, size = 1000)"
   ]
  },
  {
   "cell_type": "code",
   "execution_count": 15,
   "metadata": {},
   "outputs": [],
   "source": [
    "def l2(theta, data):\n",
    "    return -(1/2)*np.sum(((data - theta[0])/theta[1])**2) - len(data)*np.log(theta[1])\n",
    "\n",
    "def neg_l2(theta, data):\n",
    "    return -l2(theta, data)\n",
    "    \n",
    "def grad2(theta, data):\n",
    "    return np.array([(np.sum(data) - len(data)*theta[0])/theta[1]**2, \n",
    "                     np.sum((data - theta[0])**2/theta[1]**3) - len(data)/theta[1]])\n",
    "\n",
    "def neg_grad2(theta, data):\n",
    "    return -grad2(theta, data)\n",
    "\n",
    "def inverse_hessian2(theta, data):\n",
    "    return np.linalg.inv(np.r_[np.c_[-len(data)/theta[1]**2, \n",
    "                                     (-2*(np.sum(data) - len(data)*theta[0]))/theta[1]**3], \n",
    "                               np.c_[(-2*(np.sum(data) - len(data)*theta[0]))/theta[1]**3,\n",
    "                                     -3*np.sum((data - theta[0])**2/theta[1]**4) + len(data)/theta[1]**2]])\n",
    "\n",
    "def inverse_info2(theta, data):\n",
    "    return np.linalg.inv(np.r_[np.c_[-len(data)/theta[1]**2, \n",
    "                                     0], \n",
    "                               np.c_[0,\n",
    "                                     -2*len(data)/theta[1]]])"
   ]
  },
  {
   "cell_type": "code",
   "execution_count": 16,
   "metadata": {},
   "outputs": [],
   "source": [
    "theta0 = np.array([10,2])[:, None]"
   ]
  },
  {
   "cell_type": "code",
   "execution_count": 17,
   "metadata": {},
   "outputs": [
    {
     "name": "stdout",
     "output_type": "stream",
     "text": [
      "CPU times: user 376 ms, sys: 4.52 ms, total: 381 ms\n",
      "Wall time: 393 ms\n"
     ]
    },
    {
     "data": {
      "text/plain": [
       "array([[10.        , 11.98868582, 11.99295811, ..., 49.77371493,\n",
       "        49.77371494, 49.77371495],\n",
       "       [ 2.        , 42.05760957, 42.05675794, ...,  4.93516579,\n",
       "         4.93516579,  4.93516579]])"
      ]
     },
     "execution_count": 17,
     "metadata": {},
     "output_type": "execute_result"
    }
   ],
   "source": [
    "%%time\n",
    "thetas0 = gd(theta0, grad2, 0.2/len(data), data, max_iter = 10000)\n",
    "thetas0"
   ]
  },
  {
   "cell_type": "code",
   "execution_count": 18,
   "metadata": {},
   "outputs": [
    {
     "name": "stdout",
     "output_type": "stream",
     "text": [
      "CPU times: user 47.2 ms, sys: 5.23 ms, total: 52.4 ms\n",
      "Wall time: 32.4 ms\n"
     ]
    }
   ],
   "source": [
    "%%time\n",
    "thetas1 = nr(theta0, grad2, data, inverse_hessian2, max_iter=100)"
   ]
  },
  {
   "cell_type": "code",
   "execution_count": 19,
   "metadata": {},
   "outputs": [
    {
     "name": "stdout",
     "output_type": "stream",
     "text": [
      "CPU times: user 247 ms, sys: 24.2 ms, total: 271 ms\n",
      "Wall time: 146 ms\n"
     ]
    },
    {
     "data": {
      "text/plain": [
       "array([[ 10.        ,  49.77371646,  49.77371646, ...,  49.77371646,\n",
       "         49.77371646,  49.77371646],\n",
       "       [  2.        , 202.28804783, 201.78834543, ...,   4.93516579,\n",
       "          4.93516579,   4.93516579]])"
      ]
     },
     "execution_count": 19,
     "metadata": {},
     "output_type": "execute_result"
    }
   ],
   "source": [
    "%%time\n",
    "thetas2 = fisher(theta0, grad2, data, inverse_info2, max_iter=1000)\n",
    "thetas2"
   ]
  },
  {
   "cell_type": "code",
   "execution_count": 20,
   "metadata": {},
   "outputs": [
    {
     "name": "stdout",
     "output_type": "stream",
     "text": [
      "CPU times: user 47.2 ms, sys: 7.61 ms, total: 54.8 ms\n",
      "Wall time: 27.8 ms\n"
     ]
    },
    {
     "name": "stderr",
     "output_type": "stream",
     "text": [
      "/Users/erictay1997/opt/anaconda3/lib/python3.7/site-packages/ipykernel_launcher.py:2: RuntimeWarning: invalid value encountered in log\n",
      "  \n"
     ]
    },
    {
     "data": {
      "text/plain": [
       "array([[ 1.00000000e+01,  3.20732160e+02,  1.10988431e+03,\n",
       "         1.07689128e+03,  1.09274097e+03,  1.09274097e+03,\n",
       "         1.09274097e+03,  1.09274097e+03, -1.08960272e+04,\n",
       "        -7.41783081e+03,  1.08919716e+07],\n",
       "       [ 2.00000000e+00,  6.26100149e+03,  9.86721009e+02,\n",
       "         1.20698102e+03,  1.08211944e+03,  1.08211944e+03,\n",
       "         1.08211944e+03,  1.08211944e+03, -4.15853555e+03,\n",
       "        -3.47985155e+02,  5.00329071e+05]])"
      ]
     },
     "execution_count": 20,
     "metadata": {},
     "output_type": "execute_result"
    }
   ],
   "source": [
    "%%time\n",
    "#%%timeit\n",
    "#pretty unstable\n",
    "thetas3 = bfgs(neg_l2, theta0, neg_grad2, data, max_iter = 10)\n",
    "thetas3"
   ]
  },
  {
   "cell_type": "code",
   "execution_count": 21,
   "metadata": {},
   "outputs": [],
   "source": [
    "thetas0 = thetas0[:,[1,10,100,1000,10000]]\n",
    "thetas1 = thetas1[:,[1,10,100]]\n",
    "thetas2 = thetas2[:,[1,10,100,1000]]\n",
    "thetas3 = thetas3[:,[1,10]]"
   ]
  },
  {
   "cell_type": "code",
   "execution_count": 22,
   "metadata": {},
   "outputs": [],
   "source": [
    "theta = np.array([50,5])[:, None]\n",
    "l20 = np.sqrt(np.sum((thetas0 - theta)**2, 0))\n",
    "l21 = np.sqrt(np.sum((thetas1 - theta)**2, 0))\n",
    "l22 = np.sqrt(np.sum((thetas2 - theta)**2, 0))\n",
    "l23 = np.sqrt(np.sum((thetas3 - theta)**2, 0))"
   ]
  },
  {
   "cell_type": "code",
   "execution_count": 23,
   "metadata": {},
   "outputs": [
    {
     "data": {
      "text/plain": [
       "<matplotlib.legend.Legend at 0x11d5cbbd0>"
      ]
     },
     "execution_count": 23,
     "metadata": {},
     "output_type": "execute_result"
    },
    {
     "data": {
      "image/png": "[encoded data removed]",
      "text/plain": [
       "<Figure size 720x432 with 1 Axes>"
      ]
     },
     "metadata": {
      "needs_background": "light"
     },
     "output_type": "display_data"
    }
   ],
   "source": [
    "plt.figure(figsize= (10,6))\n",
    "plt.plot(list(range(len(l20))), np.log10(l20), label = \"Gradient Descent\")\n",
    "plt.plot(list(range(len(l21))), np.log10(l21), label = \"Newton-Raphson\")\n",
    "plt.plot(list(range(len(l22))), np.log10(l22), label = \"Fishers Scoring\")\n",
    "plt.plot(list(range(len(l23))), np.log10(l23), label = \"BFGS\")\n",
    "plt.xlabel(\"Iteration (log 10)\")\n",
    "plt.ylabel(\"L2 Loss (log 10)\")\n",
    "plt.title(\"Univariate Normal Distribution\")\n",
    "plt.xlim(-0.5,4.5)\n",
    "plt.legend();"
   ]
  },
  {
   "cell_type": "markdown",
   "metadata": {},
   "source": [
    "Convergence for when initialization is close enough"
   ]
  },
  {
   "cell_type": "code",
   "execution_count": 24,
   "metadata": {},
   "outputs": [
    {
     "data": {
      "text/plain": [
       "array([[44.        , 53.96844118, 50.57424055, 50.26822374, 50.06943558,\n",
       "        49.93741953, 49.8514209 , 49.80086314, 49.77875387, 49.77396276,\n",
       "        49.77371723],\n",
       "       [ 2.        ,  1.27347927,  1.39499509,  1.82585984,  2.37179887,\n",
       "         3.02828461,  3.74699792,  4.40152004,  4.80989846,  4.92748745,\n",
       "         4.93513599]])"
      ]
     },
     "execution_count": 24,
     "metadata": {},
     "output_type": "execute_result"
    }
   ],
   "source": [
    "nr(np.array([44,2])[:, None], grad2, data, inverse_hessian2, max_iter=10)"
   ]
  },
  {
   "cell_type": "code",
   "execution_count": 25,
   "metadata": {},
   "outputs": [
    {
     "data": {
      "text/plain": [
       "array([[44.        , 49.77371646, 49.77371646, 49.77371646, 49.77371646,\n",
       "        49.77371646, 49.77371646, 49.77371646, 49.77371646, 49.77371646,\n",
       "        49.77371646, 49.77371646, 49.77371646, 49.77371646, 49.77371646,\n",
       "        49.77371646, 49.77371646, 49.77371646, 49.77371646, 49.77371646,\n",
       "        49.77371646, 49.77371646, 49.77371646, 49.77371646, 49.77371646,\n",
       "        49.77371646, 49.77371646, 49.77371646, 49.77371646, 49.77371646,\n",
       "        49.77371646],\n",
       "       [ 2.        ,  8.7114579 ,  8.37192715,  8.04567627,  7.73380208,\n",
       "         7.43740659,  7.15756255,  6.89527022,  6.65140639,  6.42666857,\n",
       "         6.22151895,  6.03613483,  5.87037268,  5.72375283,  5.59546926,\n",
       "         5.48442526,  5.38929121,  5.30857705,  5.24070986,  5.18410739,\n",
       "         5.13724021,  5.09867863,  5.06712321,  5.04142042,  5.0205662 ,\n",
       "         5.00370076,  4.9900977 ,  4.97915011,  4.97035543,  4.96330059,\n",
       "         4.95764809]])"
      ]
     },
     "execution_count": 25,
     "metadata": {},
     "output_type": "execute_result"
    }
   ],
   "source": [
    "#%%timeit\n",
    "fisher(np.array([44,2])[:, None], grad2, data, inverse_info2, max_iter=30)"
   ]
  },
  {
   "cell_type": "markdown",
   "metadata": {},
   "source": [
    "# Example 3 - Logistic Regression, no analytic MLE solution known"
   ]
  },
  {
   "cell_type": "code",
   "execution_count": 26,
   "metadata": {},
   "outputs": [],
   "source": [
    "np.random.seed(0)\n",
    "X = np.random.normal(1,1,(100,3))\n",
    "X[:, 0] = 1\n",
    "theta = np.random.normal(0,5,(3,1))\n",
    "probs = 1/(1+np.exp(-X @ theta))\n",
    "data = np.random.binomial(1,probs)"
   ]
  },
  {
   "cell_type": "code",
   "execution_count": 27,
   "metadata": {},
   "outputs": [],
   "source": [
    "def l3(theta, data):\n",
    "    X = data[:, 1:]\n",
    "    data = data[:, 0][:, None]\n",
    "    probs = 1/(1+np.exp(-X @ theta))\n",
    "    return np.sum(np.log(probs)*data + (1-data)*np.log(1-probs))\n",
    "\n",
    "def neg_l3(theta, data):\n",
    "    return -l3(theta, data)\n",
    "    \n",
    "def grad3(theta, data):\n",
    "    X = data[:, 1:]\n",
    "    data = data[:, 0][:, None]\n",
    "    probs = 1/(1+np.exp(-X @ theta))\n",
    "    return X.T @ (data - probs)\n",
    "\n",
    "def neg_grad3(theta, data):\n",
    "    return -grad3(theta, data)\n",
    "\n",
    "def inverse_hessian3(theta, data):\n",
    "    X = data[:, 1:]\n",
    "    data = data[:, 0][:, None]\n",
    "    probs = 1/(1+np.exp(-X @ theta))\n",
    "    D = np.diag((probs*(1-probs)).flatten())\n",
    "    return -np.linalg.inv(X.T @ D @ X)\n",
    "\n",
    "def inverse_info3(theta, data):\n",
    "    return inverse_hessian3(theta, data)"
   ]
  },
  {
   "cell_type": "code",
   "execution_count": 28,
   "metadata": {},
   "outputs": [
    {
     "name": "stdout",
     "output_type": "stream",
     "text": [
      "[[-6.53263426]\n",
      " [ 8.2906534 ]\n",
      " [-0.59082023]]\n"
     ]
    }
   ],
   "source": [
    "print(theta)"
   ]
  },
  {
   "cell_type": "code",
   "execution_count": 29,
   "metadata": {},
   "outputs": [],
   "source": [
    "theta0 = np.array([0,0,0])[:, None]"
   ]
  },
  {
   "cell_type": "code",
   "execution_count": 30,
   "metadata": {},
   "outputs": [
    {
     "name": "stdout",
     "output_type": "stream",
     "text": [
      "CPU times: user 3 µs, sys: 1 µs, total: 4 µs\n",
      "Wall time: 7.87 µs\n"
     ]
    },
    {
     "data": {
      "text/plain": [
       "array([[ 0.        ,  0.09      ,  0.02655808, ..., -4.68244637,\n",
       "        -4.68277013, -4.68309297],\n",
       "       [ 0.        ,  0.47420699,  0.68006613, ...,  6.30341779,\n",
       "         6.30381856,  6.30421821],\n",
       "       [ 0.        ,  0.06027239, -0.0236871 , ..., -0.71900911,\n",
       "        -0.71905695, -0.71910465]])"
      ]
     },
     "execution_count": 30,
     "metadata": {},
     "output_type": "execute_result"
    }
   ],
   "source": [
    "%time\n",
    "thetas0 = gd(theta0, grad3, 1/len(data), np.c_[data, X], max_iter = 1000)\n",
    "thetas0"
   ]
  },
  {
   "cell_type": "code",
   "execution_count": 31,
   "metadata": {},
   "outputs": [
    {
     "name": "stdout",
     "output_type": "stream",
     "text": [
      "CPU times: user 5 µs, sys: 2 µs, total: 7 µs\n",
      "Wall time: 7.15 µs\n"
     ]
    },
    {
     "data": {
      "text/plain": [
       "array([[ 0.        , -1.32113501, -2.22772853, -3.20969671, -4.12995695,\n",
       "        -4.67481577, -4.79708705, -4.80169297, -4.80169901, -4.80169901,\n",
       "        -4.80169901],\n",
       "       [ 0.        ,  1.55297532,  2.81474571,  4.2114976 ,  5.51644296,\n",
       "         6.27718601,  6.44489008,  6.45111317,  6.45112124,  6.45112124,\n",
       "         6.45112124],\n",
       "       [ 0.        , -0.04207223, -0.19254868, -0.37966691, -0.58307706,\n",
       "        -0.70817768, -0.73569431, -0.73670151, -0.7367028 , -0.7367028 ,\n",
       "        -0.7367028 ]])"
      ]
     },
     "execution_count": 31,
     "metadata": {},
     "output_type": "execute_result"
    }
   ],
   "source": [
    "%time\n",
    "thetas1 = nr(theta0, grad3, np.c_[data, X], inverse_hessian3, max_iter=10)\n",
    "thetas1"
   ]
  },
  {
   "cell_type": "markdown",
   "metadata": {},
   "source": [
    "Fisher's scoring == NR for logistic regression"
   ]
  },
  {
   "cell_type": "code",
   "execution_count": 32,
   "metadata": {},
   "outputs": [
    {
     "name": "stdout",
     "output_type": "stream",
     "text": [
      "CPU times: user 4 µs, sys: 1 µs, total: 5 µs\n",
      "Wall time: 7.87 µs\n"
     ]
    },
    {
     "name": "stderr",
     "output_type": "stream",
     "text": [
      "/Users/erictay1997/opt/anaconda3/lib/python3.7/site-packages/ipykernel_launcher.py:5: RuntimeWarning: divide by zero encountered in log\n",
      "  \"\"\"\n",
      "/Users/erictay1997/opt/anaconda3/lib/python3.7/site-packages/ipykernel_launcher.py:5: RuntimeWarning: invalid value encountered in multiply\n",
      "  \"\"\"\n",
      "/Users/erictay1997/opt/anaconda3/lib/python3.7/site-packages/ipykernel_launcher.py:4: RuntimeWarning: overflow encountered in exp\n",
      "  after removing the cwd from sys.path.\n",
      "/Users/erictay1997/opt/anaconda3/lib/python3.7/site-packages/ipykernel_launcher.py:13: RuntimeWarning: overflow encountered in exp\n",
      "  del sys.path[0]\n"
     ]
    },
    {
     "data": {
      "text/plain": [
       "array([[   0.        ,    9.        ,  -49.81565178,  -51.99107168,\n",
       "         -59.46430646,  -72.13427956,  -50.89404287,  -54.52649807,\n",
       "         -52.17169253,  -14.20036426,  158.87705477],\n",
       "       [   0.        ,   47.42069856,   91.94374343,  116.27213427,\n",
       "          97.51058892,   73.83804967,   81.66107679,   73.26897258,\n",
       "          62.38599253,   26.78680038, -310.32436033],\n",
       "       [   0.        ,    6.02723864,  -49.28597822,  -34.94956405,\n",
       "          -6.6782404 ,    3.7517552 ,   -9.28580659,  -17.28250193,\n",
       "          -6.10938799,   -2.93889481,  120.77775543]])"
      ]
     },
     "execution_count": 32,
     "metadata": {},
     "output_type": "execute_result"
    }
   ],
   "source": [
    "%time\n",
    "thetas2 = bfgs(neg_l3, theta0, neg_grad3, np.c_[data, X], max_iter = 10)\n",
    "thetas2\n",
    "# Unstable"
   ]
  },
  {
   "cell_type": "code",
   "execution_count": 33,
   "metadata": {},
   "outputs": [],
   "source": [
    "l20 = np.sqrt(np.sum((thetas0 - theta)**2, 0))\n",
    "l21 = np.sqrt(np.sum((thetas1 - theta)**2, 0))\n",
    "l22 = np.sqrt(np.sum((thetas2 - theta)**2, 0))"
   ]
  },
  {
   "cell_type": "code",
   "execution_count": 34,
   "metadata": {},
   "outputs": [
    {
     "data": {
      "text/plain": [
       "array([10.57162772, 10.2654781 , 10.06308515,  9.89079615,  9.73809868,\n",
       "        9.59991399,  9.47312259,  9.3556087 ,  9.24585117,  9.14271087])"
      ]
     },
     "execution_count": 34,
     "metadata": {},
     "output_type": "execute_result"
    }
   ],
   "source": [
    "l20[:10]"
   ]
  },
  {
   "cell_type": "code",
   "execution_count": 35,
   "metadata": {},
   "outputs": [
    {
     "data": {
      "text/plain": [
       "<matplotlib.legend.Legend at 0x11db3dd10>"
      ]
     },
     "execution_count": 35,
     "metadata": {},
     "output_type": "execute_result"
    },
    {
     "data": {
      "image/png": "[encoded data removed]",
      "text/plain": [
       "<Figure size 720x432 with 1 Axes>"
      ]
     },
     "metadata": {
      "needs_background": "light"
     },
     "output_type": "display_data"
    }
   ],
   "source": [
    "plt.figure(figsize= (10,6))\n",
    "plt.plot(list(range(len(l21))), l20[:len(l21)], label = \"Gradient Descent\")\n",
    "plt.plot(list(range(len(l21))), l21, label = \"Newton-Raphson / Fishers Scoring\")\n",
    "plt.plot(list(range(len(l22))), l22, label = \"BFGS\")\n",
    "plt.xlabel(\"Iteration\")\n",
    "plt.ylabel(\"L2 Loss\")\n",
    "plt.title(\"Logistic Regression - 3 Parameters\")\n",
    "plt.ylim(0, 150)\n",
    "plt.legend();"
   ]
  },
  {
   "cell_type": "markdown",
   "metadata": {},
   "source": [
    "# Example 4 - Multinomial Linear Regression, higher dimensions"
   ]
  },
  {
   "cell_type": "code",
   "execution_count": 36,
   "metadata": {},
   "outputs": [],
   "source": [
    "n = 5000\n",
    "d = 5000\n",
    "np.random.seed(0)\n",
    "X = np.random.normal(0,1,(n,d))\n",
    "X[:, 0] = 1\n",
    "theta = np.random.normal(0,5,(d,1))\n",
    "data = X @ theta + np.random.normal(0, 1, (n, 1))"
   ]
  },
  {
   "cell_type": "code",
   "execution_count": 37,
   "metadata": {},
   "outputs": [],
   "source": [
    "def l4(theta, data):\n",
    "    X = data[:, 1:]\n",
    "    data = data[:, 0][:, None]\n",
    "    return -(1/2)*np.sum((data - X @ theta)**2)\n",
    "\n",
    "def neg_l4(theta, data):\n",
    "    return -l4(theta, data)\n",
    "    \n",
    "def grad4(theta, data):\n",
    "    X = data[:, 1:]\n",
    "    data = data[:, 0][:, None]\n",
    "    return -(X.T @ X @ theta - X.T @ data)\n",
    "\n",
    "def neg_grad4(theta, data):\n",
    "    return -grad4(theta, data)\n",
    "\n",
    "def inverse_hessian4(theta, data):\n",
    "    return -np.linalg.inv(X.T @ X)\n",
    "\n",
    "def inverse_info4(theta, data):\n",
    "    return inverse_hessian4(theta, data)"
   ]
  },
  {
   "cell_type": "code",
   "execution_count": 38,
   "metadata": {},
   "outputs": [],
   "source": [
    "theta0 = np.zeros(d)[:, None]"
   ]
  },
  {
   "cell_type": "code",
   "execution_count": 39,
   "metadata": {},
   "outputs": [
    {
     "data": {
      "text/plain": [
       "array([[-4.55078862],\n",
       "       [ 2.97279141],\n",
       "       [ 2.88552115],\n",
       "       ...,\n",
       "       [10.17179676],\n",
       "       [-1.29970582],\n",
       "       [-4.44035898]])"
      ]
     },
     "execution_count": 39,
     "metadata": {},
     "output_type": "execute_result"
    }
   ],
   "source": [
    "theta"
   ]
  },
  {
   "cell_type": "code",
   "execution_count": 40,
   "metadata": {},
   "outputs": [
    {
     "name": "stdout",
     "output_type": "stream",
     "text": [
      "CPU times: user 31.7 s, sys: 1.25 s, total: 32.9 s\n",
      "Wall time: 16.9 s\n"
     ]
    },
    {
     "data": {
      "text/plain": [
       "array([[ 0.        , -1.11661088, -1.83053608, ..., -2.79547374,\n",
       "        -2.77211259, -2.73828815],\n",
       "       [ 0.        ,  0.68471983,  1.18074619, ...,  2.36819462,\n",
       "         2.43651835,  2.48956171],\n",
       "       [ 0.        ,  0.26898831,  0.48450603, ...,  1.251248  ,\n",
       "         1.33154855,  1.40323581],\n",
       "       ...,\n",
       "       [ 0.        ,  0.50710425,  0.96400212, ...,  2.81007395,\n",
       "         3.01208557,  3.19427153],\n",
       "       [ 0.        , -0.01158852, -0.07424399, ..., -0.66021176,\n",
       "        -0.747324  , -0.82903936],\n",
       "       [ 0.        , -1.51712103, -2.54898041, ..., -4.68731861,\n",
       "        -4.78957973, -4.86611416]])"
      ]
     },
     "execution_count": 40,
     "metadata": {},
     "output_type": "execute_result"
    }
   ],
   "source": [
    "%%time\n",
    "gd(theta0, grad4, 0.1/len(data), np.c_[data, X], max_iter = 10)"
   ]
  },
  {
   "cell_type": "code",
   "execution_count": 41,
   "metadata": {},
   "outputs": [
    {
     "name": "stdout",
     "output_type": "stream",
     "text": [
      "CPU times: user 15.8 s, sys: 651 ms, total: 16.4 s\n",
      "Wall time: 9.08 s\n"
     ]
    },
    {
     "data": {
      "text/plain": [
       "array([[ 0.        , -5.05029942],\n",
       "       [ 0.        ,  2.69266304],\n",
       "       [ 0.        ,  2.85097117],\n",
       "       ...,\n",
       "       [ 0.        , 11.07451482],\n",
       "       [ 0.        , -1.70834841],\n",
       "       [ 0.        , -3.26267448]])"
      ]
     },
     "execution_count": 41,
     "metadata": {},
     "output_type": "execute_result"
    }
   ],
   "source": [
    "%%time\n",
    "nr(theta0, grad4, np.c_[data, X], inverse_hessian4, max_iter=1)"
   ]
  },
  {
   "cell_type": "code",
   "execution_count": 42,
   "metadata": {},
   "outputs": [
    {
     "name": "stdout",
     "output_type": "stream",
     "text": [
      "CPU times: user 1min 22s, sys: 4.51 s, total: 1min 26s\n",
      "Wall time: 46.1 s\n"
     ]
    },
    {
     "data": {
      "text/plain": [
       "array([[ 0.        , -6.81525196],\n",
       "       [ 0.        ,  4.17919819],\n",
       "       [ 0.        ,  1.64177436],\n",
       "       ...,\n",
       "       [ 0.        ,  3.0951187 ],\n",
       "       [ 0.        , -0.07073068],\n",
       "       [ 0.        , -9.25977192]])"
      ]
     },
     "execution_count": 42,
     "metadata": {},
     "output_type": "execute_result"
    }
   ],
   "source": [
    "%%time\n",
    "bfgs(neg_l4, theta0, neg_grad4, np.c_[data, X], max_iter = 1)"
   ]
  },
  {
   "cell_type": "markdown",
   "metadata": {},
   "source": [
    "BFGS unfortunately takes too much time."
   ]
  },
  {
   "cell_type": "markdown",
   "metadata": {},
   "source": [
    "# Example 5 - Real dataset"
   ]
  },
  {
   "cell_type": "code",
   "execution_count": 43,
   "metadata": {},
   "outputs": [
    {
     "data": {
      "text/html": [
       "<div>\n",
       "<style scoped>\n",
       "    .dataframe tbody tr th:only-of-type {\n",
       "        vertical-align: middle;\n",
       "    }\n",
       "\n",
       "    .dataframe tbody tr th {\n",
       "        vertical-align: top;\n",
       "    }\n",
       "\n",
       "    .dataframe thead th {\n",
       "        text-align: right;\n",
       "    }\n",
       "</style>\n",
       "<table border=\"1\" class=\"dataframe\">\n",
       "  <thead>\n",
       "    <tr style=\"text-align: right;\">\n",
       "      <th></th>\n",
       "      <th>id</th>\n",
       "      <th>age</th>\n",
       "      <th>sex</th>\n",
       "      <th>fracture</th>\n",
       "      <th>weight_kg</th>\n",
       "      <th>height_cm</th>\n",
       "      <th>medication</th>\n",
       "      <th>waiting_time</th>\n",
       "      <th>bmd</th>\n",
       "    </tr>\n",
       "  </thead>\n",
       "  <tbody>\n",
       "    <tr>\n",
       "      <th>0</th>\n",
       "      <td>469</td>\n",
       "      <td>57.052768</td>\n",
       "      <td>F</td>\n",
       "      <td>no fracture</td>\n",
       "      <td>64.0</td>\n",
       "      <td>155.5</td>\n",
       "      <td>Anticonvulsant</td>\n",
       "      <td>18</td>\n",
       "      <td>0.8793</td>\n",
       "    </tr>\n",
       "    <tr>\n",
       "      <th>1</th>\n",
       "      <td>8724</td>\n",
       "      <td>75.741225</td>\n",
       "      <td>F</td>\n",
       "      <td>no fracture</td>\n",
       "      <td>78.0</td>\n",
       "      <td>162.0</td>\n",
       "      <td>No medication</td>\n",
       "      <td>56</td>\n",
       "      <td>0.7946</td>\n",
       "    </tr>\n",
       "    <tr>\n",
       "      <th>2</th>\n",
       "      <td>6736</td>\n",
       "      <td>70.778900</td>\n",
       "      <td>M</td>\n",
       "      <td>no fracture</td>\n",
       "      <td>73.0</td>\n",
       "      <td>170.5</td>\n",
       "      <td>No medication</td>\n",
       "      <td>10</td>\n",
       "      <td>0.9067</td>\n",
       "    </tr>\n",
       "    <tr>\n",
       "      <th>3</th>\n",
       "      <td>24180</td>\n",
       "      <td>78.247175</td>\n",
       "      <td>F</td>\n",
       "      <td>no fracture</td>\n",
       "      <td>60.0</td>\n",
       "      <td>148.0</td>\n",
       "      <td>No medication</td>\n",
       "      <td>14</td>\n",
       "      <td>0.7112</td>\n",
       "    </tr>\n",
       "    <tr>\n",
       "      <th>4</th>\n",
       "      <td>17072</td>\n",
       "      <td>54.191877</td>\n",
       "      <td>M</td>\n",
       "      <td>no fracture</td>\n",
       "      <td>55.0</td>\n",
       "      <td>161.0</td>\n",
       "      <td>No medication</td>\n",
       "      <td>20</td>\n",
       "      <td>0.7909</td>\n",
       "    </tr>\n",
       "  </tbody>\n",
       "</table>\n",
       "</div>"
      ],
      "text/plain": [
       "      id        age sex     fracture  weight_kg  height_cm      medication  \\\n",
       "0    469  57.052768   F  no fracture       64.0      155.5  Anticonvulsant   \n",
       "1   8724  75.741225   F  no fracture       78.0      162.0   No medication   \n",
       "2   6736  70.778900   M  no fracture       73.0      170.5   No medication   \n",
       "3  24180  78.247175   F  no fracture       60.0      148.0   No medication   \n",
       "4  17072  54.191877   M  no fracture       55.0      161.0   No medication   \n",
       "\n",
       "   waiting_time     bmd  \n",
       "0            18  0.8793  \n",
       "1            56  0.7946  \n",
       "2            10  0.9067  \n",
       "3            14  0.7112  \n",
       "4            20  0.7909  "
      ]
     },
     "execution_count": 43,
     "metadata": {},
     "output_type": "execute_result"
    }
   ],
   "source": [
    "df = pd.read_csv(\"bmd.csv\")\n",
    "df.head()"
   ]
  },
  {
   "cell_type": "code",
   "execution_count": 44,
   "metadata": {},
   "outputs": [],
   "source": [
    "df.sex = (df.sex == \"M\").astype(int)\n",
    "df[\"bmi\"] = df.weight_kg / df.height_cm**2\n",
    "data = (df.fracture == \"fracture\").astype(int).to_numpy()[:,None]\n",
    "X = df[[\"age\", \"sex\", \"bmd\", \"bmi\"]].to_numpy()\n",
    "X = np.c_[np.ones(X.shape[0])[:,None], X]"
   ]
  },
  {
   "cell_type": "code",
   "execution_count": 45,
   "metadata": {},
   "outputs": [
    {
     "name": "stdout",
     "output_type": "stream",
     "text": [
      "Accuracy: 0.8579881656804734\n"
     ]
    }
   ],
   "source": [
    "theta0 = np.array([0,0,0,0,0])[:, None]\n",
    "thetas = nr(theta0, grad3, np.c_[data, X], inverse_hessian3, max_iter=10)\n",
    "final_theta = thetas[:,-1]\n",
    "print(\"Accuracy: {}\".format(np.mean((1/(1+np.exp(-X @ final_theta)) > 0.5) == data.flatten())))"
   ]
  },
  {
   "cell_type": "code",
   "execution_count": 46,
   "metadata": {},
   "outputs": [
    {
     "data": {
      "text/plain": [
       "array([ 9.79487711e+00,  1.84400431e-02,  8.45992843e-01, -1.51174679e+01,\n",
       "       -5.13081464e+02])"
      ]
     },
     "execution_count": 46,
     "metadata": {},
     "output_type": "execute_result"
    }
   ],
   "source": [
    "final_theta"
   ]
  },
  {
   "cell_type": "code",
   "execution_count": 47,
   "metadata": {},
   "outputs": [
    {
     "name": "stdout",
     "output_type": "stream",
     "text": [
      "Accuracy: 0.7041420118343196\n"
     ]
    },
    {
     "name": "stderr",
     "output_type": "stream",
     "text": [
      "/Users/erictay1997/opt/anaconda3/lib/python3.7/site-packages/ipykernel_launcher.py:13: RuntimeWarning: overflow encountered in exp\n",
      "  del sys.path[0]\n",
      "/Users/erictay1997/opt/anaconda3/lib/python3.7/site-packages/ipykernel_launcher.py:3: RuntimeWarning: overflow encountered in exp\n",
      "  This is separate from the ipykernel package so we can avoid doing imports until\n"
     ]
    }
   ],
   "source": [
    "thetas = gd(theta0, grad3, 1/len(data), np.c_[data, X], max_iter = 10)\n",
    "final_theta = thetas[:,-1]\n",
    "print(\"Accuracy: {}\".format(np.mean((1/(1+np.exp(-X @ final_theta)) > 0.5) == data.flatten())))"
   ]
  },
  {
   "cell_type": "code",
   "execution_count": 48,
   "metadata": {},
   "outputs": [
    {
     "name": "stdout",
     "output_type": "stream",
     "text": [
      "Accuracy: 0.4319526627218935\n"
     ]
    },
    {
     "name": "stderr",
     "output_type": "stream",
     "text": [
      "/Users/erictay1997/opt/anaconda3/lib/python3.7/site-packages/ipykernel_launcher.py:4: RuntimeWarning: overflow encountered in exp\n",
      "  after removing the cwd from sys.path.\n",
      "/Users/erictay1997/opt/anaconda3/lib/python3.7/site-packages/ipykernel_launcher.py:5: RuntimeWarning: divide by zero encountered in log\n",
      "  \"\"\"\n",
      "/Users/erictay1997/opt/anaconda3/lib/python3.7/site-packages/ipykernel_launcher.py:5: RuntimeWarning: invalid value encountered in multiply\n",
      "  \"\"\"\n",
      "/Users/erictay1997/opt/anaconda3/lib/python3.7/site-packages/ipykernel_launcher.py:13: RuntimeWarning: overflow encountered in exp\n",
      "  del sys.path[0]\n",
      "/Users/erictay1997/opt/anaconda3/lib/python3.7/site-packages/ipykernel_launcher.py:3: RuntimeWarning: overflow encountered in exp\n",
      "  This is separate from the ipykernel package so we can avoid doing imports until\n"
     ]
    }
   ],
   "source": [
    "thetas = bfgs(neg_l3, theta0, neg_grad3, np.c_[data, X], max_iter = 10)\n",
    "final_theta = thetas[:,-1]\n",
    "print(\"Accuracy: {}\".format(np.mean((1/(1+np.exp(-X @ final_theta)) > 0.5) == data.flatten())))"
   ]
  }
 ],
 "metadata": {
  "kernelspec": {
   "display_name": "Python 3",
   "language": "python",
   "name": "python3"
  },
  "language_info": {
   "codemirror_mode": {
    "name": "ipython",
    "version": 3
   },
   "file_extension": ".py",
   "mimetype": "text/x-python",
   "name": "python",
   "nbconvert_exporter": "python",
   "pygments_lexer": "ipython3",
   "version": "3.7.6"
  }
 },
 "nbformat": 4,
 "nbformat_minor": 4
}
