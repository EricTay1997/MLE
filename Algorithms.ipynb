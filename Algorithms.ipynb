{
 "cells": [
  {
   "cell_type": "code",
   "execution_count": null,
   "metadata": {},
   "outputs": [],
   "source": [
    "import numpy as np\n"
   ]
  },
  {
   "cell_type": "markdown",
   "metadata": {},
   "source": [
    "# Gradient Descent"
   ]
  },
  {
   "cell_type": "code",
   "execution_count": 33,
   "metadata": {},
   "outputs": [],
   "source": [
    "def gd(theta, grad, eta, data, max_iter=10):\n",
    "    # Takes in original parameter estimate theta, gradient function grad, step-size eta\n",
    "    # Returns parameter estimates obtained after max_iter steps\n",
    "    thetas = np.zeros((1 + max_iter, theta.shape[0]))\n",
    "    thetas[0,:] = theta\n",
    "    for i in range(max_iter):\n",
    "        theta = theta + eta * grad(theta, data)\n",
    "        thetas[i+1,:] = theta\n",
    "    return thetas"
   ]
  },
  {
   "cell_type": "markdown",
   "metadata": {},
   "source": [
    "# Newton-Raphson"
   ]
  },
  {
   "cell_type": "code",
   "execution_count": 65,
   "metadata": {},
   "outputs": [],
   "source": [
    "def nr(theta, grad, data, inverse_hessian, max_iter=10):\n",
    "    # Takes in original parameter estimate theta, gradient function grad\n",
    "    # Returns parameter estimates obtained after max_iter eta\n",
    "    thetas = np.zeros((1 + max_iter, theta.shape[0]))\n",
    "    thetas[0,:] = theta\n",
    "    for i in range(max_iter):\n",
    "        theta = theta - inverse_hessian(theta, data) @ grad(theta, data)\n",
    "        thetas[i+1,:] = theta\n",
    "    return thetas"
   ]
  },
  {
   "cell_type": "markdown",
   "metadata": {},
   "source": [
    "# Fisher's scoring"
   ]
  },
  {
   "cell_type": "code",
   "execution_count": 93,
   "metadata": {},
   "outputs": [],
   "source": [
    "def fisher(theta, grad, data, inverse_info, max_iter=10):\n",
    "    # Takes in original parameter estimate theta, gradient function grad\n",
    "    # Returns parameter estimates obtained after max_iter eta\n",
    "    thetas = np.zeros((1 + max_iter, theta.shape[0]))\n",
    "    thetas[0,:] = theta\n",
    "    for i in range(max_iter):\n",
    "        theta = theta - inverse_info(theta, data) @ grad(theta, data)\n",
    "        thetas[i+1,:] = theta\n",
    "    return thetas"
   ]
  },
  {
   "cell_type": "markdown",
   "metadata": {},
   "source": [
    "# BFGS"
   ]
  },
  {
   "cell_type": "code",
   "execution_count": 166,
   "metadata": {},
   "outputs": [],
   "source": [
    "def bfgs(f, theta, grad, data, max_iter=10):\n",
    "    # Takes in original parameter estimate theta, negative likelihood function f, negative gradient function grad\n",
    "    # Returns parameter estimates obtained after max_iter eta\n",
    "    thetas = np.zeros((1 + max_iter, theta.shape[0]))\n",
    "    thetas[0,:] = theta\n",
    "    I = np.diag(np.ones(theta.shape[0]))\n",
    "    B = np.copy(I)\n",
    "    B_inverse = np.copy(I)\n",
    "    for i in range(max_iter):\n",
    "        p = -B_inverse @ grad(theta, data)\n",
    "        alpha = line_search(f, grad, p , theta, 1, data)\n",
    "        s = alpha * p\n",
    "        next_theta = (theta + s)\n",
    "        y = grad(next_theta, data) - grad(theta, data)\n",
    "        B = B + (y @ y.T)/(y.T @ s) - (B @ s @ s.T @ B.T)/(s.T @ B @ s)\n",
    "        B_inverse = (I - (s @ y.T)/(y.T @ s)) @ B_inverse @ (I - (s @ y.T)/(y.T @ s)) + (s @ s.T)/(y.T @ s)\n",
    "        theta = next_theta\n",
    "        thetas[i+1,:] = theta\n",
    "    return thetas\n",
    "\n",
    "def line_search(f, grad, p, theta, alpha, data, lower = 0, upper = float(\"inf\"), c1 = 0.0001, c2 = 0.1):\n",
    "    if f(theta, data) + c1 * alpha * p.T @ grad(theta, data) - f(theta + alpha * p, data) < 0:\n",
    "        return line_search(f, grad, p, theta, 0.5*(lower + alpha), data, lower = 0, upper = alpha)\n",
    "    elif -c2 * p.T @ grad(theta, data) + p.T @ grad(theta + alpha * p, data) < 0:\n",
    "        return line_search(f, grad, p, theta, 2*alpha, data, lower = alpha, upper = float(\"inf\"))\n",
    "    return alpha"
   ]
  },
  {
   "cell_type": "markdown",
   "metadata": {},
   "source": [
    "# Example 1 - Poisson "
   ]
  },
  {
   "cell_type": "code",
   "execution_count": 73,
   "metadata": {},
   "outputs": [],
   "source": [
    "np.random.seed(0)\n",
    "data = np.random.poisson(lam = 56.3, size = 1000)"
   ]
  },
  {
   "cell_type": "code",
   "execution_count": 98,
   "metadata": {},
   "outputs": [],
   "source": [
    "def l1(theta, data):\n",
    "    return np.sum(data)*np.log(theta) - len(data)*theta\n",
    "\n",
    "def neg_l1(theta, data):\n",
    "    return -l1(theta, data)\n",
    "    \n",
    "def grad1(theta, data):\n",
    "    return np.sum(data)/theta - len(data)\n",
    "\n",
    "def neg_grad1(theta, data):\n",
    "    return -grad1(theta, data)\n",
    "\n",
    "def inverse_hessian1(theta, data):\n",
    "    return -(theta**2)/np.sum(data)\n",
    "\n",
    "def inverse_info1(theta, data):\n",
    "    return -(theta)/len(data)"
   ]
  },
  {
   "cell_type": "code",
   "execution_count": 168,
   "metadata": {},
   "outputs": [],
   "source": [
    "theta0 = np.array([[5]])"
   ]
  },
  {
   "cell_type": "code",
   "execution_count": 183,
   "metadata": {},
   "outputs": [
    {
     "name": "stdout",
     "output_type": "stream",
     "text": [
      "CPU times: user 2 µs, sys: 1e+03 ns, total: 3 µs\n",
      "Wall time: 7.39 µs\n",
      "[ 5.         15.2796     17.97066521 20.10900201 21.91361658 23.48726753\n",
      " 24.88848342 26.1545114  27.31085067 28.37589071 29.36342303 30.28411191\n",
      " 31.14640855 31.95714702 32.72194786 33.44550051 34.1317662  34.78412722\n",
      " 35.40549894 35.99841534 36.56509541 37.10749533 37.62734999 38.12620654\n",
      " 38.60545153 39.06633329 39.50998043 39.93741723 40.34957665 40.74731126\n",
      " 41.13140259 41.50256905 41.86147288 42.208726   42.54489521 42.87050666\n",
      " 43.18604977 43.49198075 43.78872555 44.07668265 44.35622541 44.6277042\n",
      " 44.89144835 45.14776781 45.3969547  45.63928473 45.87501838 46.10440209\n",
      " 46.32766923 46.54504107 46.75672761 46.96292836 47.16383303 47.35962219\n",
      " 47.55046784 47.73653398 47.91797711 48.09494666 48.26758545 48.43603006\n",
      " 48.6004112  48.76085405 48.91747859 49.07039983 49.21972814 49.3655695\n",
      " 49.50802568 49.64719451 49.78317008 49.9160429  50.04590009 50.17282557\n",
      " 50.29690019 50.4182019  50.53680585 50.65278457 50.76620806 50.8771439\n",
      " 50.98565738 51.0918116  51.19566755 51.2972842  51.39671862 51.49402603\n",
      " 51.58925987 51.68247191 51.77371229 51.86302958 51.95047087 52.03608182\n",
      " 52.1199067  52.20198845 52.28236875 52.36108805 52.4381856  52.51369955\n",
      " 52.58766693 52.66012371 52.73110486 52.80064437 52.86877527]\n",
      "[  5.         107.796      103.02791955  98.50196972  94.2275405\n",
      "  90.21283946  86.46449946  82.98717644  79.78316618  76.85207592\n",
      "  74.19058946  71.79236219  69.6480725   67.74564046  66.07060419\n",
      "  64.60662421  63.33606963  62.24063228  61.30191555  60.50195433\n",
      "  59.82363668  59.25101407  58.76950095  58.36597516  58.02879666\n",
      "  57.74776436  57.51402988  57.31998507  57.15913627  57.02597536\n",
      "  56.91585443  56.82486846  56.74974845  56.68776607  56.63664991\n",
      "  56.5945129   56.55978994  56.53118482  56.50762529  56.4882252\n",
      "  56.47225281  56.45910426  56.44828152  56.43937398  56.43204329\n",
      "  56.42601067  56.42104653  56.41696179  56.41360078  56.41083535\n",
      "  56.40856002]\n"
     ]
    }
   ],
   "source": [
    "%time\n",
    "print(gd(theta0, grad1, 1/len(data), data, max_iter = 100).flatten())\n",
    "print(gd(theta0, grad1, 10/len(data), data, max_iter = 50).flatten())"
   ]
  },
  {
   "cell_type": "code",
   "execution_count": 181,
   "metadata": {},
   "outputs": [
    {
     "name": "stdout",
     "output_type": "stream",
     "text": [
      "CPU times: user 827 µs, sys: 293 µs, total: 1.12 ms\n",
      "Wall time: 936 µs\n"
     ]
    },
    {
     "data": {
      "text/plain": [
       "array([ 5.        ,  9.55672187, 17.49404353, 29.56162586, 43.6282036 ,\n",
       "       53.50662619, 56.24976704, 56.39761039, 56.398     , 56.398     ,\n",
       "       56.398     ])"
      ]
     },
     "execution_count": 181,
     "metadata": {},
     "output_type": "execute_result"
    }
   ],
   "source": [
    "%%time\n",
    "nr(theta0, grad1, data, inverse_hessian1, max_iter=10).flatten()"
   ]
  },
  {
   "cell_type": "code",
   "execution_count": 180,
   "metadata": {},
   "outputs": [
    {
     "name": "stdout",
     "output_type": "stream",
     "text": [
      "CPU times: user 616 µs, sys: 165 µs, total: 781 µs\n",
      "Wall time: 657 µs\n"
     ]
    },
    {
     "data": {
      "text/plain": [
       "array([ 5.   , 56.398, 56.398, 56.398, 56.398, 56.398, 56.398, 56.398,\n",
       "       56.398, 56.398, 56.398])"
      ]
     },
     "execution_count": 180,
     "metadata": {},
     "output_type": "execute_result"
    }
   ],
   "source": [
    "%%time\n",
    "fisher(theta0, grad1, data, inverse_info1, max_iter=10).flatten()"
   ]
  },
  {
   "cell_type": "code",
   "execution_count": 179,
   "metadata": {},
   "outputs": [
    {
     "name": "stdout",
     "output_type": "stream",
     "text": [
      "CPU times: user 5.91 ms, sys: 2.33 ms, total: 8.24 ms\n",
      "Wall time: 7.48 ms\n"
     ]
    },
    {
     "data": {
      "text/plain": [
       "array([  5.        , 165.61875   ,  10.69020643, 144.91602358,\n",
       "        44.24479993,  59.85877053,  54.42875174,  56.51883968,\n",
       "        56.40221936,  56.39799096,  56.398     ])"
      ]
     },
     "execution_count": 179,
     "metadata": {},
     "output_type": "execute_result"
    }
   ],
   "source": [
    "%%time\n",
    "bfgs(neg_l1, theta0, neg_grad1, data).flatten()"
   ]
  },
  {
   "cell_type": "markdown",
   "metadata": {},
   "source": [
    "# Example 2 - Normal Distribution"
   ]
  },
  {
   "cell_type": "code",
   "execution_count": null,
   "metadata": {},
   "outputs": [],
   "source": []
  }
 ],
 "metadata": {
  "kernelspec": {
   "display_name": "Python 3",
   "language": "python",
   "name": "python3"
  },
  "language_info": {
   "codemirror_mode": {
    "name": "ipython",
    "version": 3
   },
   "file_extension": ".py",
   "mimetype": "text/x-python",
   "name": "python",
   "nbconvert_exporter": "python",
   "pygments_lexer": "ipython3",
   "version": "3.7.6"
  }
 },
 "nbformat": 4,
 "nbformat_minor": 4
}
